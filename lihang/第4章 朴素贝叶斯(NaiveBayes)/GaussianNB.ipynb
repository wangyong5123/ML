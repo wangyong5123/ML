{
 "cells": [
  {
   "cell_type": "markdown",
   "metadata": {},
   "source": [
    "原文代码作者：https://github.com/wzyonggege/statistical-learning-method,  https://www.cnblogs.com/21207-iHome/p/6084670.html\n",
    "\n",
    "中文注释制作：机器学习初学者(微信公众号：ID:ai-start-com)\n",
    "\n",
    "配置环境：python 3.6\n",
    "\n",
    "代码全部测试通过。\n",
    "![gongzhong](../gongzhong.jpg)"
   ]
  },
  {
   "cell_type": "markdown",
   "metadata": {},
   "source": [
    "# 第4章 朴素贝叶斯"
   ]
  },
  {
   "cell_type": "markdown",
   "metadata": {},
   "source": [
    "基于贝叶斯定理与特征条件独立假设的分类方法。\n",
    "\n",
    "模型：\n",
    "\n",
    "- 高斯模型\n",
    "- 多项式模型\n",
    "- 伯努利模型"
   ]
  },
  {
   "cell_type": "code",
   "execution_count": 165,
   "metadata": {},
   "outputs": [],
   "source": [
    "import numpy as np\n",
    "import pandas as pd\n",
    "import matplotlib.pyplot as plt\n",
    "%matplotlib inline\n",
    "\n",
    "from sklearn.datasets import load_iris\n",
    "from sklearn.model_selection import train_test_split\n",
    "\n",
    "from collections import Counter\n",
    "import math"
   ]
  },
  {
   "cell_type": "code",
   "execution_count": 166,
   "metadata": {},
   "outputs": [],
   "source": [
    "# data\n",
    "def create_data():\n",
    "    iris = load_iris()\n",
    "    df = pd.DataFrame(iris.data, columns=iris.feature_names)\n",
    "    df['label'] = iris.target\n",
    "    df.columns = ['sepal length', 'sepal width', 'petal length', 'petal width', 'label']\n",
    "    data = np.array(df.iloc[:100, :])\n",
    "    # print(data)\n",
    "    return data[:,:-1], data[:,-1]"
   ]
  },
  {
   "cell_type": "code",
   "execution_count": 167,
   "metadata": {},
   "outputs": [],
   "source": [
    "X, y = create_data()\n",
    "X_train, X_test, y_train, y_test = train_test_split(X, y, test_size=0.3)"
   ]
  },
  {
   "cell_type": "code",
   "execution_count": 168,
   "metadata": {},
   "outputs": [
    {
     "data": {
      "text/plain": [
       "(array([5.4, 3.9, 1.3, 0.4]), 0.0)"
      ]
     },
     "execution_count": 168,
     "metadata": {},
     "output_type": "execute_result"
    }
   ],
   "source": [
    "X_test[0], y_test[0]"
   ]
  },
  {
   "cell_type": "markdown",
   "metadata": {},
   "source": [
    "参考：https://machinelearningmastery.com/naive-bayes-classifier-scratch-python/\n",
    "\n",
    "## GaussianNB 高斯朴素贝叶斯\n",
    "\n",
    "特征的可能性被假设为高斯\n",
    "\n",
    "概率密度函数：\n",
    "$$P(x_i | y_k)=\\frac{1}{\\sqrt{2\\pi\\sigma^2_{yk}}}exp(-\\frac{(x_i-\\mu_{yk})^2}{2\\sigma^2_{yk}})$$\n",
    "\n",
    "数学期望(mean)：$\\mu$，方差：$\\sigma^2=\\frac{\\sum(X-\\mu)^2}{N}$"
   ]
  },
  {
   "cell_type": "code",
   "execution_count": 169,
   "metadata": {},
   "outputs": [],
   "source": [
    "class NaiveBayes:\n",
    "    def __init__(self):\n",
    "        self.model = None\n",
    "\n",
    "    # 数学期望 就是平均值\n",
    "    @staticmethod\n",
    "    def mean(X):\n",
    "        return sum(X) / float(len(X))\n",
    "\n",
    "    # 标准差（方差）\n",
    "    def stdev(self, X):\n",
    "        avg = self.mean(X)\n",
    "        return math.sqrt(sum([pow(x-avg, 2) for x in X]) / float(len(X)))\n",
    "\n",
    "    # 概率密度函数\n",
    "    def gaussian_probability(self, x, mean, stdev):\n",
    "        exponent = math.exp(-(math.pow(x-mean,2)/(2*math.pow(stdev,2))))\n",
    "        return (1 / (math.sqrt(2*math.pi) * stdev)) * exponent\n",
    "\n",
    "    # 处理X_train\n",
    "    def summarize(self, train_data):\n",
    "        #print(\"train_data\",train_data)\n",
    "        summaries = [(self.mean(i), self.stdev(i)) for i in zip(*train_data)]\n",
    "        #print(\"summaries\",summaries)\n",
    "        return summaries\n",
    "\n",
    "    # 分类别求出数学期望和标准差\n",
    "    def fit(self, X, y):\n",
    "        labels = list(set(y))\n",
    "        print('labels',labels)\n",
    "        data = {label:[] for label in labels}\n",
    "        print(\"data\",data)\n",
    "        for f, label in zip(X, y):\n",
    "            data[label].append(f)\n",
    "            #print('data',data)\n",
    "        self.model = {label: self.summarize(value) for label, value in data.items()}\n",
    "        print('self.model',self.model)\n",
    "        return 'gaussianNB train done!'\n",
    "\n",
    "    # 计算概率\n",
    "    def calculate_probabilities(self, input_data):\n",
    "        # summaries:{0.0: [(5.0, 0.37),(3.42, 0.40)], 1.0: [(5.8, 0.449),(2.7, 0.27)]}\n",
    "        # input_data:[1.1, 2.2]\n",
    "        probabilities = {}\n",
    "        for label, value in self.model.items():\n",
    "            probabilities[label] = 1\n",
    "            for i in range(len(value)):\n",
    "                mean, stdev = value[i]\n",
    "                probabilities[label] *= self.gaussian_probability(input_data[i], mean, stdev)\n",
    "        print(\"probabilities\",probabilities)\n",
    "        return probabilities\n",
    "\n",
    "    # 类别\n",
    "    def predict(self, X_test):\n",
    "        # {0.0: 2.9680340789325763e-27, 1.0: 3.5749783019849535e-26}\n",
    "        \n",
    "        #print(\"pre\",sorted(self.calculate_probabilities(X_test).items(), key=lambda x: x[-1]))\n",
    "        #print(\"pre1\",sorted(self.calculate_probabilities(X_test).items(), key=lambda x: x[-1])[-1])\n",
    "        #print(\"pre2\",sorted(self.calculate_probabilities(X_test).items(), key=lambda x: x[-1])[-1][0])\n",
    "        \n",
    "        label = sorted(self.calculate_probabilities(X_test).items(), key=lambda x: x[-1])[-1][0]\n",
    "        return label\n",
    "\n",
    "    def score(self, X_test, y_test):\n",
    "        right = 0\n",
    "        for X, y in zip(X_test, y_test):\n",
    "            label = self.predict(X)\n",
    "            if label == y:\n",
    "                right += 1\n",
    "\n",
    "        return right / float(len(X_test))"
   ]
  },
  {
   "cell_type": "code",
   "execution_count": 170,
   "metadata": {},
   "outputs": [],
   "source": [
    "model = NaiveBayes()"
   ]
  },
  {
   "cell_type": "code",
   "execution_count": 171,
   "metadata": {},
   "outputs": [
    {
     "name": "stdout",
     "output_type": "stream",
     "text": [
      "labels [0.0, 1.0]\n",
      "data {0.0: [], 1.0: []}\n",
      "self.model {0.0: [(5.015625, 0.3666651870235297), (3.4687500000000004, 0.34860211918460854), (1.4625, 0.18498310733685927), (0.259375, 0.1114096466873493)], 1.0: [(5.973684210526316, 0.4749981775734102), (2.7736842105263158, 0.2953002134548536), (4.26842105263158, 0.46741464920734865), (1.3210526315789475, 0.19215932908977562)]}\n"
     ]
    },
    {
     "data": {
      "text/plain": [
       "'gaussianNB train done!'"
      ]
     },
     "execution_count": 171,
     "metadata": {},
     "output_type": "execute_result"
    }
   ],
   "source": [
    "model.fit(X_train, y_train)"
   ]
  },
  {
   "cell_type": "code",
   "execution_count": 172,
   "metadata": {},
   "outputs": [
    {
     "name": "stdout",
     "output_type": "stream",
     "text": [
      "probabilities {0.0: 1.0293054484089323, 1.0: 2.0831593056719582e-19}\n",
      "pre [(1.0, 2.0831593056719582e-19), (0.0, 1.0293054484089323)]\n",
      "probabilities {0.0: 1.0293054484089323, 1.0: 2.0831593056719582e-19}\n",
      "pre1 (0.0, 1.0293054484089323)\n",
      "probabilities {0.0: 1.0293054484089323, 1.0: 2.0831593056719582e-19}\n",
      "pre2 0.0\n",
      "probabilities {0.0: 1.0293054484089323, 1.0: 2.0831593056719582e-19}\n",
      "0.0\n"
     ]
    }
   ],
   "source": [
    "print(model.predict([4.4,  3.2,  1.3,  0.2]))"
   ]
  },
  {
   "cell_type": "code",
   "execution_count": 173,
   "metadata": {},
   "outputs": [
    {
     "name": "stdout",
     "output_type": "stream",
     "text": [
      "probabilities {0.0: 0.7915932954933907, 1.0: 1.2045563337518497e-17}\n",
      "pre [(1.0, 1.2045563337518497e-17), (0.0, 0.7915932954933907)]\n",
      "probabilities {0.0: 0.7915932954933907, 1.0: 1.2045563337518497e-17}\n",
      "pre1 (0.0, 0.7915932954933907)\n",
      "probabilities {0.0: 0.7915932954933907, 1.0: 1.2045563337518497e-17}\n",
      "pre2 0.0\n",
      "probabilities {0.0: 0.7915932954933907, 1.0: 1.2045563337518497e-17}\n",
      "probabilities {0.0: 0.4198867618328872, 1.0: 1.0833417207250703e-15}\n",
      "pre [(1.0, 1.0833417207250703e-15), (0.0, 0.4198867618328872)]\n",
      "probabilities {0.0: 0.4198867618328872, 1.0: 1.0833417207250703e-15}\n",
      "pre1 (0.0, 0.4198867618328872)\n",
      "probabilities {0.0: 0.4198867618328872, 1.0: 1.0833417207250703e-15}\n",
      "pre2 0.0\n",
      "probabilities {0.0: 0.4198867618328872, 1.0: 1.0833417207250703e-15}\n",
      "probabilities {0.0: 1.656507416560436e-95, 1.0: 0.04122997807964096}\n",
      "pre [(0.0, 1.656507416560436e-95), (1.0, 0.04122997807964096)]\n",
      "probabilities {0.0: 1.656507416560436e-95, 1.0: 0.04122997807964096}\n",
      "pre1 (1.0, 0.04122997807964096)\n",
      "probabilities {0.0: 1.656507416560436e-95, 1.0: 0.04122997807964096}\n",
      "pre2 1.0\n",
      "probabilities {0.0: 1.656507416560436e-95, 1.0: 0.04122997807964096}\n",
      "probabilities {0.0: 8.008400149386283, 1.0: 2.5460635710866247e-17}\n",
      "pre [(1.0, 2.5460635710866247e-17), (0.0, 8.008400149386283)]\n",
      "probabilities {0.0: 8.008400149386283, 1.0: 2.5460635710866247e-17}\n",
      "pre1 (0.0, 8.008400149386283)\n",
      "probabilities {0.0: 8.008400149386283, 1.0: 2.5460635710866247e-17}\n",
      "pre2 0.0\n",
      "probabilities {0.0: 8.008400149386283, 1.0: 2.5460635710866247e-17}\n",
      "probabilities {0.0: 0.5790998866868351, 1.0: 9.146037440665074e-22}\n",
      "pre [(1.0, 9.146037440665074e-22), (0.0, 0.5790998866868351)]\n",
      "probabilities {0.0: 0.5790998866868351, 1.0: 9.146037440665074e-22}\n",
      "pre1 (0.0, 0.5790998866868351)\n",
      "probabilities {0.0: 0.5790998866868351, 1.0: 9.146037440665074e-22}\n",
      "pre2 0.0\n",
      "probabilities {0.0: 0.5790998866868351, 1.0: 9.146037440665074e-22}\n",
      "probabilities {0.0: 7.173563912104639, 1.0: 2.5432417272630076e-17}\n",
      "pre [(1.0, 2.5432417272630076e-17), (0.0, 7.173563912104639)]\n",
      "probabilities {0.0: 7.173563912104639, 1.0: 2.5432417272630076e-17}\n",
      "pre1 (0.0, 7.173563912104639)\n",
      "probabilities {0.0: 7.173563912104639, 1.0: 2.5432417272630076e-17}\n",
      "pre2 0.0\n",
      "probabilities {0.0: 7.173563912104639, 1.0: 2.5432417272630076e-17}\n",
      "probabilities {0.0: 2.4569914649779028, 1.0: 1.6362747710170566e-17}\n",
      "pre [(1.0, 1.6362747710170566e-17), (0.0, 2.4569914649779028)]\n",
      "probabilities {0.0: 2.4569914649779028, 1.0: 1.6362747710170566e-17}\n",
      "pre1 (0.0, 2.4569914649779028)\n",
      "probabilities {0.0: 2.4569914649779028, 1.0: 1.6362747710170566e-17}\n",
      "pre2 0.0\n",
      "probabilities {0.0: 2.4569914649779028, 1.0: 1.6362747710170566e-17}\n",
      "probabilities {0.0: 1.2373155838830348e-107, 1.0: 0.04241885901240887}\n",
      "pre [(0.0, 1.2373155838830348e-107), (1.0, 0.04241885901240887)]\n",
      "probabilities {0.0: 1.2373155838830348e-107, 1.0: 0.04241885901240887}\n",
      "pre1 (1.0, 0.04241885901240887)\n",
      "probabilities {0.0: 1.2373155838830348e-107, 1.0: 0.04241885901240887}\n",
      "pre2 1.0\n",
      "probabilities {0.0: 1.2373155838830348e-107, 1.0: 0.04241885901240887}\n",
      "probabilities {0.0: 2.1771813886271146e-64, 1.0: 1.5801839124680788}\n",
      "pre [(0.0, 2.1771813886271146e-64), (1.0, 1.5801839124680788)]\n",
      "probabilities {0.0: 2.1771813886271146e-64, 1.0: 1.5801839124680788}\n",
      "pre1 (1.0, 1.5801839124680788)\n",
      "probabilities {0.0: 2.1771813886271146e-64, 1.0: 1.5801839124680788}\n",
      "pre2 1.0\n",
      "probabilities {0.0: 2.1771813886271146e-64, 1.0: 1.5801839124680788}\n",
      "probabilities {0.0: 0.5610223334113473, 1.0: 4.403049320489123e-19}\n",
      "pre [(1.0, 4.403049320489123e-19), (0.0, 0.5610223334113473)]\n",
      "probabilities {0.0: 0.5610223334113473, 1.0: 4.403049320489123e-19}\n",
      "pre1 (0.0, 0.5610223334113473)\n",
      "probabilities {0.0: 0.5610223334113473, 1.0: 4.403049320489123e-19}\n",
      "pre2 0.0\n",
      "probabilities {0.0: 0.5610223334113473, 1.0: 4.403049320489123e-19}\n",
      "probabilities {0.0: 1.5730973822271115e-43, 1.0: 0.06491663489810624}\n",
      "pre [(0.0, 1.5730973822271115e-43), (1.0, 0.06491663489810624)]\n",
      "probabilities {0.0: 1.5730973822271115e-43, 1.0: 0.06491663489810624}\n",
      "pre1 (1.0, 0.06491663489810624)\n",
      "probabilities {0.0: 1.5730973822271115e-43, 1.0: 0.06491663489810624}\n",
      "pre2 1.0\n",
      "probabilities {0.0: 1.5730973822271115e-43, 1.0: 0.06491663489810624}\n",
      "probabilities {0.0: 6.086994257919127, 1.0: 1.5430127514270374e-17}\n",
      "pre [(1.0, 1.5430127514270374e-17), (0.0, 6.086994257919127)]\n",
      "probabilities {0.0: 6.086994257919127, 1.0: 1.5430127514270374e-17}\n",
      "pre1 (0.0, 6.086994257919127)\n",
      "probabilities {0.0: 6.086994257919127, 1.0: 1.5430127514270374e-17}\n",
      "pre2 0.0\n",
      "probabilities {0.0: 6.086994257919127, 1.0: 1.5430127514270374e-17}\n",
      "probabilities {0.0: 1.1119963110108435, 1.0: 8.02084955758632e-19}\n",
      "pre [(1.0, 8.02084955758632e-19), (0.0, 1.1119963110108435)]\n",
      "probabilities {0.0: 1.1119963110108435, 1.0: 8.02084955758632e-19}\n",
      "pre1 (0.0, 1.1119963110108435)\n",
      "probabilities {0.0: 1.1119963110108435, 1.0: 8.02084955758632e-19}\n",
      "pre2 0.0\n",
      "probabilities {0.0: 1.1119963110108435, 1.0: 8.02084955758632e-19}\n",
      "probabilities {0.0: 2.5562760856529106e-61, 1.0: 0.34844941938550245}\n",
      "pre [(0.0, 2.5562760856529106e-61), (1.0, 0.34844941938550245)]\n",
      "probabilities {0.0: 2.5562760856529106e-61, 1.0: 0.34844941938550245}\n",
      "pre1 (1.0, 0.34844941938550245)\n",
      "probabilities {0.0: 2.5562760856529106e-61, 1.0: 0.34844941938550245}\n",
      "pre2 1.0\n",
      "probabilities {0.0: 2.5562760856529106e-61, 1.0: 0.34844941938550245}\n",
      "probabilities {0.0: 2.4044716424143218, 1.0: 2.5315071272576043e-14}\n",
      "pre [(1.0, 2.5315071272576043e-14), (0.0, 2.4044716424143218)]\n",
      "probabilities {0.0: 2.4044716424143218, 1.0: 2.5315071272576043e-14}\n",
      "pre1 (0.0, 2.4044716424143218)\n",
      "probabilities {0.0: 2.4044716424143218, 1.0: 2.5315071272576043e-14}\n",
      "pre2 0.0\n",
      "probabilities {0.0: 2.4044716424143218, 1.0: 2.5315071272576043e-14}\n",
      "probabilities {0.0: 3.2461822495601176, 1.0: 6.631426865837556e-17}\n",
      "pre [(1.0, 6.631426865837556e-17), (0.0, 3.2461822495601176)]\n",
      "probabilities {0.0: 3.2461822495601176, 1.0: 6.631426865837556e-17}\n",
      "pre1 (0.0, 3.2461822495601176)\n",
      "probabilities {0.0: 3.2461822495601176, 1.0: 6.631426865837556e-17}\n",
      "pre2 0.0\n",
      "probabilities {0.0: 3.2461822495601176, 1.0: 6.631426865837556e-17}\n",
      "probabilities {0.0: 7.499928444836452e-68, 1.0: 1.4065248421613974}\n",
      "pre [(0.0, 7.499928444836452e-68), (1.0, 1.4065248421613974)]\n",
      "probabilities {0.0: 7.499928444836452e-68, 1.0: 1.4065248421613974}\n",
      "pre1 (1.0, 1.4065248421613974)\n",
      "probabilities {0.0: 7.499928444836452e-68, 1.0: 1.4065248421613974}\n",
      "pre2 1.0\n",
      "probabilities {0.0: 7.499928444836452e-68, 1.0: 1.4065248421613974}\n",
      "probabilities {0.0: 7.50203635813691e-86, 1.0: 0.41439244392119934}\n",
      "pre [(0.0, 7.50203635813691e-86), (1.0, 0.41439244392119934)]\n",
      "probabilities {0.0: 7.50203635813691e-86, 1.0: 0.41439244392119934}\n",
      "pre1 (1.0, 0.41439244392119934)\n",
      "probabilities {0.0: 7.50203635813691e-86, 1.0: 0.41439244392119934}\n",
      "pre2 1.0\n",
      "probabilities {0.0: 7.50203635813691e-86, 1.0: 0.41439244392119934}\n",
      "probabilities {0.0: 1.539345448132597e-39, 1.0: 0.000509642498950581}\n",
      "pre [(0.0, 1.539345448132597e-39), (1.0, 0.000509642498950581)]\n",
      "probabilities {0.0: 1.539345448132597e-39, 1.0: 0.000509642498950581}\n",
      "pre1 (1.0, 0.000509642498950581)\n",
      "probabilities {0.0: 1.539345448132597e-39, 1.0: 0.000509642498950581}\n",
      "pre2 1.0\n",
      "probabilities {0.0: 1.539345448132597e-39, 1.0: 0.000509642498950581}\n",
      "probabilities {0.0: 5.465405236220583, 1.0: 1.5749094980815633e-17}\n",
      "pre [(1.0, 1.5749094980815633e-17), (0.0, 5.465405236220583)]\n",
      "probabilities {0.0: 5.465405236220583, 1.0: 1.5749094980815633e-17}\n",
      "pre1 (0.0, 5.465405236220583)\n",
      "probabilities {0.0: 5.465405236220583, 1.0: 1.5749094980815633e-17}\n",
      "pre2 0.0\n",
      "probabilities {0.0: 5.465405236220583, 1.0: 1.5749094980815633e-17}\n",
      "probabilities {0.0: 3.036015394409975, 1.0: 3.1466160931966884e-17}\n",
      "pre [(1.0, 3.1466160931966884e-17), (0.0, 3.036015394409975)]\n",
      "probabilities {0.0: 3.036015394409975, 1.0: 3.1466160931966884e-17}\n",
      "pre1 (0.0, 3.036015394409975)\n",
      "probabilities {0.0: 3.036015394409975, 1.0: 3.1466160931966884e-17}\n",
      "pre2 0.0\n",
      "probabilities {0.0: 3.036015394409975, 1.0: 3.1466160931966884e-17}\n",
      "probabilities {0.0: 2.3607367001897615, 1.0: 4.218444292270052e-18}\n",
      "pre [(1.0, 4.218444292270052e-18), (0.0, 2.3607367001897615)]\n",
      "probabilities {0.0: 2.3607367001897615, 1.0: 4.218444292270052e-18}\n",
      "pre1 (0.0, 2.3607367001897615)\n",
      "probabilities {0.0: 2.3607367001897615, 1.0: 4.218444292270052e-18}\n",
      "pre2 0.0\n",
      "probabilities {0.0: 2.3607367001897615, 1.0: 4.218444292270052e-18}\n",
      "probabilities {0.0: 2.401397299523498e-113, 1.0: 0.016431601163021448}\n",
      "pre [(0.0, 2.401397299523498e-113), (1.0, 0.016431601163021448)]\n",
      "probabilities {0.0: 2.401397299523498e-113, 1.0: 0.016431601163021448}\n",
      "pre1 (1.0, 0.016431601163021448)\n",
      "probabilities {0.0: 2.401397299523498e-113, 1.0: 0.016431601163021448}\n",
      "pre2 1.0\n",
      "probabilities {0.0: 2.401397299523498e-113, 1.0: 0.016431601163021448}\n",
      "probabilities {0.0: 8.216246514837945e-49, 1.0: 0.4814151295078842}\n",
      "pre [(0.0, 8.216246514837945e-49), (1.0, 0.4814151295078842)]\n",
      "probabilities {0.0: 8.216246514837945e-49, 1.0: 0.4814151295078842}\n",
      "pre1 (1.0, 0.4814151295078842)\n",
      "probabilities {0.0: 8.216246514837945e-49, 1.0: 0.4814151295078842}\n",
      "pre2 1.0\n",
      "probabilities {0.0: 8.216246514837945e-49, 1.0: 0.4814151295078842}\n",
      "probabilities {0.0: 2.8936614406394368, 1.0: 3.530071610108005e-20}\n",
      "pre [(1.0, 3.530071610108005e-20), (0.0, 2.8936614406394368)]\n",
      "probabilities {0.0: 2.8936614406394368, 1.0: 3.530071610108005e-20}\n",
      "pre1 (0.0, 2.8936614406394368)\n",
      "probabilities {0.0: 2.8936614406394368, 1.0: 3.530071610108005e-20}\n",
      "pre2 0.0\n",
      "probabilities {0.0: 2.8936614406394368, 1.0: 3.530071610108005e-20}\n",
      "probabilities {0.0: 3.7861674141758526, 1.0: 6.945050690876226e-18}\n",
      "pre [(1.0, 6.945050690876226e-18), (0.0, 3.7861674141758526)]\n",
      "probabilities {0.0: 3.7861674141758526, 1.0: 6.945050690876226e-18}\n",
      "pre1 (0.0, 3.7861674141758526)\n",
      "probabilities {0.0: 3.7861674141758526, 1.0: 6.945050690876226e-18}\n",
      "pre2 0.0\n",
      "probabilities {0.0: 3.7861674141758526, 1.0: 6.945050690876226e-18}\n",
      "probabilities {0.0: 2.560442833519887, 1.0: 6.244826778463944e-16}\n",
      "pre [(1.0, 6.244826778463944e-16), (0.0, 2.560442833519887)]\n",
      "probabilities {0.0: 2.560442833519887, 1.0: 6.244826778463944e-16}\n",
      "pre1 (0.0, 2.560442833519887)\n",
      "probabilities {0.0: 2.560442833519887, 1.0: 6.244826778463944e-16}\n",
      "pre2 0.0\n",
      "probabilities {0.0: 2.560442833519887, 1.0: 6.244826778463944e-16}\n",
      "probabilities {0.0: 1.4957343103730575e-78, 1.0: 0.4190747767771897}\n",
      "pre [(0.0, 1.4957343103730575e-78), (1.0, 0.4190747767771897)]\n",
      "probabilities {0.0: 1.4957343103730575e-78, 1.0: 0.4190747767771897}\n",
      "pre1 (1.0, 0.4190747767771897)\n",
      "probabilities {0.0: 1.4957343103730575e-78, 1.0: 0.4190747767771897}\n",
      "pre2 1.0\n",
      "probabilities {0.0: 1.4957343103730575e-78, 1.0: 0.4190747767771897}\n",
      "probabilities {0.0: 8.566486933228991e-79, 1.0: 1.4914138762089317}\n",
      "pre [(0.0, 8.566486933228991e-79), (1.0, 1.4914138762089317)]\n",
      "probabilities {0.0: 8.566486933228991e-79, 1.0: 1.4914138762089317}\n",
      "pre1 (1.0, 1.4914138762089317)\n",
      "probabilities {0.0: 8.566486933228991e-79, 1.0: 1.4914138762089317}\n",
      "pre2 1.0\n",
      "probabilities {0.0: 8.566486933228991e-79, 1.0: 1.4914138762089317}\n",
      "probabilities {0.0: 0.008246918071448969, 1.0: 5.828630482471745e-18}\n",
      "pre [(1.0, 5.828630482471745e-18), (0.0, 0.008246918071448969)]\n",
      "probabilities {0.0: 0.008246918071448969, 1.0: 5.828630482471745e-18}\n",
      "pre1 (0.0, 0.008246918071448969)\n",
      "probabilities {0.0: 0.008246918071448969, 1.0: 5.828630482471745e-18}\n",
      "pre2 0.0\n",
      "probabilities {0.0: 0.008246918071448969, 1.0: 5.828630482471745e-18}\n"
     ]
    },
    {
     "data": {
      "text/plain": [
       "1.0"
      ]
     },
     "execution_count": 173,
     "metadata": {},
     "output_type": "execute_result"
    }
   ],
   "source": [
    "model.score(X_test, y_test)"
   ]
  },
  {
   "cell_type": "markdown",
   "metadata": {
    "collapsed": true
   },
   "source": [
    "scikit-learn实例\n",
    "\n",
    "# sklearn.naive_bayes"
   ]
  },
  {
   "cell_type": "code",
   "execution_count": 174,
   "metadata": {},
   "outputs": [],
   "source": [
    "from sklearn.naive_bayes import GaussianNB"
   ]
  },
  {
   "cell_type": "code",
   "execution_count": 175,
   "metadata": {},
   "outputs": [
    {
     "data": {
      "text/plain": [
       "GaussianNB(priors=None, var_smoothing=1e-09)"
      ]
     },
     "execution_count": 175,
     "metadata": {},
     "output_type": "execute_result"
    }
   ],
   "source": [
    "clf = GaussianNB()\n",
    "clf.fit(X_train, y_train)"
   ]
  },
  {
   "cell_type": "code",
   "execution_count": 176,
   "metadata": {},
   "outputs": [
    {
     "data": {
      "text/plain": [
       "1.0"
      ]
     },
     "execution_count": 176,
     "metadata": {},
     "output_type": "execute_result"
    }
   ],
   "source": [
    "clf.score(X_test, y_test)"
   ]
  },
  {
   "cell_type": "code",
   "execution_count": 177,
   "metadata": {},
   "outputs": [
    {
     "data": {
      "text/plain": [
       "array([0.])"
      ]
     },
     "execution_count": 177,
     "metadata": {},
     "output_type": "execute_result"
    }
   ],
   "source": [
    "clf.predict([[4.4,  3.2,  1.3,  0.2]])"
   ]
  },
  {
   "cell_type": "code",
   "execution_count": 178,
   "metadata": {},
   "outputs": [],
   "source": [
    "from sklearn.naive_bayes import BernoulliNB, MultinomialNB # 伯努利模型和多项式模型"
   ]
  }
 ],
 "metadata": {
  "kernelspec": {
   "display_name": "Python 3",
   "language": "python",
   "name": "python3"
  },
  "language_info": {
   "codemirror_mode": {
    "name": "ipython",
    "version": 3
   },
   "file_extension": ".py",
   "mimetype": "text/x-python",
   "name": "python",
   "nbconvert_exporter": "python",
   "pygments_lexer": "ipython3",
   "version": "3.7.1"
  }
 },
 "nbformat": 4,
 "nbformat_minor": 2
}
