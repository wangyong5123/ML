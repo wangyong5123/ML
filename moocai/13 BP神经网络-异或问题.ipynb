{
 "cells": [
  {
   "cell_type": "code",
   "execution_count": 1,
   "metadata": {},
   "outputs": [],
   "source": [
    "import numpy as np"
   ]
  },
  {
   "cell_type": "code",
   "execution_count": 2,
   "metadata": {},
   "outputs": [
    {
     "name": "stdout",
     "output_type": "stream",
     "text": [
      "[[-0.70750511 -0.71782732 -0.13772678  0.95695262]\n",
      " [ 0.36790858  0.75710499  0.97484635 -0.18335048]\n",
      " [ 0.02413303  0.04387645 -0.43211159 -0.87478464]]\n",
      "[[-0.09634867]\n",
      " [-0.79485618]\n",
      " [-0.96106183]\n",
      " [-0.03515903]]\n"
     ]
    }
   ],
   "source": [
    "#输入数据，增加非线性项目 \n",
    "X = np.array([[1,0,0],\n",
    "             [1,0,1],\n",
    "             [1,1,0],\n",
    "             [1,1,1]])\n",
    "#标签\n",
    "Y = np.array([[0,1,1,0]])\n",
    "#权值初始化，3行1列 取值范围-1 1\n",
    "V = np.random.random((3,4))*2 - 1\n",
    "W = np.random.random((4,1))*2 - 1\n",
    "     \n",
    "print(V)\n",
    "print(W)\n",
    "#设置学习率\n",
    "lr = 0.11\n",
    "\n",
    "def sigmoid(x):\n",
    "     return 1/(1+np.exp(-x))\n",
    "def dsigmoid(x):#导数\n",
    "     return x*(1-x)\n",
    "\n",
    "def update():\n",
    "    global X,Y,W,V,lr\n",
    "    L1 = sigmoid(np.dot(X,V))#(4,4)#输入层传递给隐藏层，输入3个节点，隐藏4个节点\n",
    "    L2 = sigmoid(np.dot(L1,W))#(4,1)#隐藏层 传递到输出层的值 输出层1个节点\n",
    "     \n",
    "    L2_delta = (Y.T - L2)*dsigmoid(L2)#输出层误差值的改变\n",
    "    L1_delta = L2_delta.dot(W.T)*dsigmoid(L1)#隐藏层误差值的改变\n",
    "    W_C = lr*L1.T.dot(L2_delta)#输出层权值的改变\n",
    "    V_C = lr*X.T.dot(L1_delta)#隐藏层输出的改变\n",
    "     \n",
    "    W = W+W_C\n",
    "    V = V+V_C\n"
   ]
  },
  {
   "cell_type": "code",
   "execution_count": 3,
   "metadata": {},
   "outputs": [
    {
     "name": "stdout",
     "output_type": "stream",
     "text": [
      "Error: 0.4989154469848669\n",
      "Error: 0.4994799982742606\n",
      "Error: 0.4990785460778756\n",
      "Error: 0.498419473314511\n",
      "Error: 0.4968050539942125\n",
      "Error: 0.49147469904363855\n",
      "Error: 0.47049201286143716\n",
      "Error: 0.39562743560739905\n",
      "Error: 0.250650290213707\n",
      "Error: 0.16448894224015714\n",
      "Error: 0.12378670002349193\n",
      "Error: 0.1010077227023392\n",
      "Error: 0.08642806766552864\n",
      "Error: 0.07623081783600003\n",
      "Error: 0.06865234084867211\n",
      "Error: 0.06276897960487327\n",
      "Error: 0.05804976561858717\n",
      "Error: 0.054167106612613536\n",
      "Error: 0.05090744050183935\n",
      "Error: 0.04812528422343939\n",
      "Error: 0.045717914530666225\n",
      "Error: 0.04361060972569421\n",
      "Error: 0.041747636202944916\n",
      "Error: 0.04008652297070557\n",
      "Error: 0.03859430083249479\n",
      "Error: 0.037244959657999385\n",
      "Error: 0.03601768540952981\n",
      "Error: 0.03489561047662027\n",
      "Error: 0.033864910347917006\n",
      "Error: 0.03291413913200599\n",
      "Error: 0.03203373305238969\n",
      "Error: 0.03121563416925199\n",
      "Error: 0.030453001532706837\n",
      "Error: 0.029739986843694964\n",
      "Error: 0.0290715583411425\n",
      "Error: 0.02844336118185294\n",
      "Error: 0.027851605743206737\n",
      "Error: 0.027292977511753483\n",
      "Error: 0.02676456381828682\n",
      "Error: 0.026263793837158742\n",
      "[[0.02869301]\n",
      " [0.97337509]\n",
      " [0.97423219]\n",
      " [0.02207155]]\n",
      "0\n",
      "1\n",
      "1\n",
      "0\n"
     ]
    }
   ],
   "source": [
    "for i in range(20000):\n",
    "    update()\n",
    "    if i%500 == 0:\n",
    "        L1 = sigmoid(np.dot(X,V))#隐藏层(4,4)\n",
    "        L2 = sigmoid(np.dot(L1,W))#输出层(4,1)\n",
    "        print(\"Error:\",np.mean(np.abs(Y.T - L2)))\n",
    "\n",
    "L1 = sigmoid(np.dot(X,V))\n",
    "L2 = sigmoid(np.dot(L1,W))\n",
    "print(L2)\n",
    "\n",
    "def judge(x):\n",
    "    if x >= 0.5:\n",
    "        return 1\n",
    "    else:\n",
    "        return 0\n",
    "for i in map(judge,L2):\n",
    "    print(i)"
   ]
  }
 ],
 "metadata": {
  "kernelspec": {
   "display_name": "Python 3",
   "language": "python",
   "name": "python3"
  },
  "language_info": {
   "codemirror_mode": {
    "name": "ipython",
    "version": 3
   },
   "file_extension": ".py",
   "mimetype": "text/x-python",
   "name": "python",
   "nbconvert_exporter": "python",
   "pygments_lexer": "ipython3",
   "version": "3.7.1"
  }
 },
 "nbformat": 4,
 "nbformat_minor": 2
}
