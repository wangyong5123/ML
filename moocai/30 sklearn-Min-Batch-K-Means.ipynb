{
 "cells": [
  {
   "cell_type": "code",
   "execution_count": 1,
   "metadata": {},
   "outputs": [],
   "source": [
    "#数据量大的时候使用\n",
    "from sklearn.cluster import MiniBatchKMeans\n",
    "import numpy as np\n",
    "import matplotlib.pyplot as plt"
   ]
  },
  {
   "cell_type": "code",
   "execution_count": 3,
   "metadata": {},
   "outputs": [],
   "source": [
    "data = np.genfromtxt(\"testSet.txt\",delimiter=\"\")\n",
    "\n",
    "k = 4"
   ]
  },
  {
   "cell_type": "code",
   "execution_count": 4,
   "metadata": {},
   "outputs": [
    {
     "data": {
      "text/plain": [
       "MiniBatchKMeans(batch_size=100, compute_labels=True, init='k-means++',\n",
       "        init_size=None, max_iter=100, max_no_improvement=10, n_clusters=4,\n",
       "        n_init=3, random_state=None, reassignment_ratio=0.01, tol=0.0,\n",
       "        verbose=0)"
      ]
     },
     "execution_count": 4,
     "metadata": {},
     "output_type": "execute_result"
    }
   ],
   "source": [
    "model = MiniBatchKMeans(n_clusters=k)\n",
    "model.fit(data)"
   ]
  },
  {
   "cell_type": "code",
   "execution_count": 5,
   "metadata": {},
   "outputs": [
    {
     "name": "stdout",
     "output_type": "stream",
     "text": [
      "[[ 2.5478601   3.11312852]\n",
      " [ 2.60059201 -2.77013234]\n",
      " [-3.52452324 -2.87080095]\n",
      " [-2.46645023  2.74553635]]\n"
     ]
    }
   ],
   "source": [
    "centers = model.cluster_centers_\n",
    "print(centers)"
   ]
  },
  {
   "cell_type": "code",
   "execution_count": 6,
   "metadata": {},
   "outputs": [
    {
     "name": "stdout",
     "output_type": "stream",
     "text": [
      "[0 3 1 2 0 3 1 2 0 3 1 2 0 3 1 1 0 3 1 2 0 3 1 2 0 3 1 2 0 3 1 2 0 3 1 2 0\n",
      " 3 1 2 0 3 1 2 0 3 1 2 0 3 1 2 0 3 1 2 0 3 1 2 0 3 1 2 0 3 1 2 0 3 1 2 0 3\n",
      " 1 2 0 3 1 2]\n"
     ]
    }
   ],
   "source": [
    "result = model.predict(data)\n",
    "print(result)"
   ]
  },
  {
   "cell_type": "code",
   "execution_count": 7,
   "metadata": {},
   "outputs": [
    {
     "data": {
      "text/plain": [
       "array([0, 3, 1, 2, 0, 3, 1, 2, 0, 3, 1, 2, 0, 3, 1, 1, 0, 3, 1, 2, 0, 3,\n",
       "       1, 2, 0, 3, 1, 2, 0, 3, 1, 2, 0, 3, 1, 2, 0, 3, 1, 2, 0, 3, 1, 2,\n",
       "       0, 3, 1, 2, 0, 3, 1, 2, 0, 3, 1, 2, 0, 3, 1, 2, 0, 3, 1, 2, 0, 3,\n",
       "       1, 2, 0, 3, 1, 2, 0, 3, 1, 2, 0, 3, 1, 2])"
      ]
     },
     "execution_count": 7,
     "metadata": {},
     "output_type": "execute_result"
    }
   ],
   "source": [
    "model.labels_"
   ]
  },
  {
   "cell_type": "code",
   "execution_count": 8,
   "metadata": {},
   "outputs": [
    {
     "data": {
      "image/png": "[encoded data removed]",
      "text/plain": [
       "<Figure size 432x288 with 1 Axes>"
      ]
     },
     "metadata": {
      "needs_background": "light"
     },
     "output_type": "display_data"
    }
   ],
   "source": [
    "mark = ['or','ob','og','oy']\n",
    "\n",
    "for i,d in enumerate(data):\n",
    "    plt.plot(d[0],d[1],mark[result[i]])\n",
    "\n",
    "mark = ['*r','*b','*g','*y']\n",
    "\n",
    "for i,center in enumerate(centers):\n",
    "    plt.plot(center[0],center[1],mark[i],markersize=20)\n",
    "plt.show()\n"
   ]
  },
  {
   "cell_type": "code",
   "execution_count": 9,
   "metadata": {},
   "outputs": [
    {
     "data": {
      "image/png": "[encoded data removed]",
      "text/plain": [
       "<Figure size 432x288 with 1 Axes>"
      ]
     },
     "metadata": {
      "needs_background": "light"
     },
     "output_type": "display_data"
    }
   ],
   "source": [
    "x_min,x_max = data[:,0].min() -1,data[:,0].max() + 1\n",
    "y_min,y_max = data[:,1].min() -1,data[:,1].max() + 1\n",
    "\n",
    "xx,yy = np.meshgrid(np.arange(x_min,x_max,0.02),\n",
    "                   np.arange(y_min,y_max,0.02))\n",
    "\n",
    "z = model.predict(np.c_[xx.ravel(),yy.ravel()])\n",
    "z = z.reshape(xx.shape)\n",
    "\n",
    "cs = plt.contourf(xx,yy,z)\n",
    "mark = ['or','ob','og','oy']\n",
    "\n",
    "for i,d in enumerate(data):\n",
    "    plt.plot(d[0],d[1],mark[result[i]])\n",
    "\n",
    "mark = ['*r','*b','*g','*y']\n",
    "\n",
    "for i,center in enumerate(centers):\n",
    "    plt.plot(center[0],center[1],mark[i],markersize=20)\n",
    "plt.show()\n"
   ]
  }
 ],
 "metadata": {
  "kernelspec": {
   "display_name": "Python 3",
   "language": "python",
   "name": "python3"
  },
  "language_info": {
   "codemirror_mode": {
    "name": "ipython",
    "version": 3
   },
   "file_extension": ".py",
   "mimetype": "text/x-python",
   "name": "python",
   "nbconvert_exporter": "python",
   "pygments_lexer": "ipython3",
   "version": "3.7.1"
  }
 },
 "nbformat": 4,
 "nbformat_minor": 2
}
