{
 "cells": [
  {
   "cell_type": "code",
   "execution_count": 28,
   "metadata": {},
   "outputs": [],
   "source": [
    "import numpy as np\n",
    "import matplotlib.pyplot as plt"
   ]
  },
  {
   "cell_type": "code",
   "execution_count": 29,
   "metadata": {},
   "outputs": [
    {
     "name": "stdout",
     "output_type": "stream",
     "text": [
      "[ 0.03240847 -0.50787753  0.80939508 -0.31141556 -0.19184471 -0.56278274]\n"
     ]
    }
   ],
   "source": [
    "#输入数据，增加非线性项目  x0 x1 x2 x1*x1 x1*x2 x2*x2 \n",
    "X = np.array([[1,0,0,0,0,0],\n",
    "             [1,0,1,0,0,1],\n",
    "             [1,1,0,1,0,0],\n",
    "             [1,1,1,1,1,1]])\n",
    "#标签\n",
    "Y = np.array([-1,1,1,-1])\n",
    "#权值初始化，3行1列 取值范围-1 1\n",
    "W = (np.random.random(6) - 0.5) *2\n",
    "\n",
    "print(W)\n",
    "#设置学习率\n",
    "lr = 0.11\n",
    "#神经网络输出\n",
    "O = 0\n",
    "\n",
    "def update():\n",
    "    global X,Y,W,lr\n",
    "    O = np.dot(X,W.T)#shape:(3,1)\n",
    "    W_C = lr*((Y-O.T).dot(X))/int(X.shape[0])# shape 行的个数 ；求取误差的平均值\n",
    "    W = W + W_C"
   ]
  },
  {
   "cell_type": "code",
   "execution_count": 30,
   "metadata": {},
   "outputs": [
    {
     "data": {
      "image/png": "[encoded data removed]",
      "text/plain": [
       "<Figure size 432x288 with 1 Axes>"
      ]
     },
     "metadata": {
      "needs_background": "light"
     },
     "output_type": "display_data"
    }
   ],
   "source": [
    "#收敛的条件一误差达到值，二权值变的小，三循环次数\n",
    "for _ in range(1000):\n",
    "    update()#更新权值\n",
    "    #-0.1\n",
    "    #-1 \n",
    "\n",
    "#正样本 (3,3)(4,3)\n",
    "x1 = [0,1]\n",
    "y1 = [1,0]\n",
    "#负样本(1,1)(0,2)\n",
    "x2 = [0,1]\n",
    "y2 = [0,1]\n",
    "\n",
    "#y = -b+ sqrt(b*b - 4ac)/2a\n",
    "#y = -b - sqrt(b*b - 4ac)/2a\n",
    "\n",
    "def calculate(x,root):\n",
    "    a = W[3]\n",
    "    b = W[2] + x*W[4]\n",
    "    c = W[0] + x*W[1] + x*x*W[3]\n",
    "    if root == 1:\n",
    "        return (-b+np.sqrt(b*b - 4*a*c))/(2*a)\n",
    "    if root == 2:\n",
    "        return (-b-np.sqrt(b*b - 4*a*c))/(2*a)\n",
    "    \n",
    "xdata = np.linspace(-1,2)\n",
    "\n",
    "plt.figure()\n",
    "\n",
    "plt.plot(xdata,calculate(xdata,1),'r')\n",
    "plt.plot(xdata,calculate(xdata,2),'r')\n",
    "\n",
    "plt.scatter(x1,y1,c='b')\n",
    "plt.scatter(x2,y2,c='y')\n",
    "plt.show()"
   ]
  }
 ],
 "metadata": {
  "kernelspec": {
   "display_name": "Python 3",
   "language": "python",
   "name": "python3"
  },
  "language_info": {
   "codemirror_mode": {
    "name": "ipython",
    "version": 3
   },
   "file_extension": ".py",
   "mimetype": "text/x-python",
   "name": "python",
   "nbconvert_exporter": "python",
   "pygments_lexer": "ipython3",
   "version": "3.7.1"
  }
 },
 "nbformat": 4,
 "nbformat_minor": 2
}
