{
 "cells": [
  {
   "cell_type": "code",
   "execution_count": 33,
   "metadata": {},
   "outputs": [],
   "source": [
    "import numpy as np\n",
    "import matplotlib.pyplot as plt"
   ]
  },
  {
   "cell_type": "code",
   "execution_count": 34,
   "metadata": {},
   "outputs": [
    {
     "name": "stdout",
     "output_type": "stream",
     "text": [
      "[[ 0.31501266]\n",
      " [-0.30353078]\n",
      " [ 0.70336676]]\n"
     ]
    }
   ],
   "source": [
    "#输入数据\n",
    "X = np.array([[1,3,3],\n",
    "             [1,4,3],\n",
    "             [1,1,1],\n",
    "             [1,0,2]])\n",
    "#标签\n",
    "Y = np.array([[1],\n",
    "             [1],\n",
    "             [-1],\n",
    "             [-1]])\n",
    "#权值初始化，3行1列 取值范围-1 1\n",
    "W = (np.random.random([3,1]) - 0.5) *2\n",
    "\n",
    "print(W)\n",
    "#设置学习率\n",
    "lr = 0.11\n",
    "#神经网络输出\n",
    "O = 0\n",
    "\n",
    "def update():\n",
    "    global X,Y,W,lr\n",
    "    O = np.sign(np.dot(X,W))#shape:(3,1)\n",
    "    W_C = lr*(X.T.dot(Y-O))/int(X.shape[0])# shape 行的个数 ；求取误差的平均值\n",
    "    W = W + W_C"
   ]
  },
  {
   "cell_type": "code",
   "execution_count": 35,
   "metadata": {},
   "outputs": [
    {
     "name": "stdout",
     "output_type": "stream",
     "text": [
      "[[ 0.20501266]\n",
      " [-0.35853078]\n",
      " [ 0.53836676]]\n",
      "0\n",
      "[[ 0.09501266]\n",
      " [-0.41353078]\n",
      " [ 0.37336676]]\n",
      "1\n",
      "[[ 0.09501266]\n",
      " [-0.08353078]\n",
      " [ 0.53836676]]\n",
      "2\n",
      "[[-0.01498734]\n",
      " [-0.13853078]\n",
      " [ 0.37336676]]\n",
      "3\n",
      "[[-0.12498734]\n",
      " [-0.19353078]\n",
      " [ 0.20836676]]\n",
      "4\n",
      "[[-0.06998734]\n",
      " [ 0.19146922]\n",
      " [ 0.42836676]]\n",
      "5\n",
      "[[-0.17998734]\n",
      " [ 0.13646922]\n",
      " [ 0.26336676]]\n",
      "6\n",
      "[[-0.28998734]\n",
      " [ 0.08146922]\n",
      " [ 0.09836676]]\n",
      "7\n",
      "finished\n",
      "epoch: 7\n",
      "k [-0.82821902]\n",
      "d [2.94802158]\n"
     ]
    },
    {
     "data": {
      "image/png": "[encoded data removed]",
      "text/plain": [
       "<Figure size 432x288 with 1 Axes>"
      ]
     },
     "metadata": {
      "needs_background": "light"
     },
     "output_type": "display_data"
    }
   ],
   "source": [
    "for i in range(100):\n",
    "    update()#更新权值\n",
    "    print(W)#打印当前权值\n",
    "    print(i)#迭代次数\n",
    "    \n",
    "    O = np.sign(np.dot(X,W))\n",
    "    \n",
    "    if(O == Y).all():\n",
    "        print('finished')#如果实际输出等于期望输出，模型收敛，循环结束\n",
    "        print('epoch:',i)\n",
    "        break\n",
    "\n",
    "#正样本 (3,3)(4,3)\n",
    "x1 = [3,4]\n",
    "y1 = [3,3]\n",
    "#负样本(1,1)(0,2)\n",
    "x2 = [1,0]\n",
    "y2 = [1,2]\n",
    "\n",
    "k = -W[1]/W[2]\n",
    "d = -W[0]/W[2]\n",
    "# print('k',k)\n",
    "# print('d',d)\n",
    "\n",
    "xdata = (0,5)\n",
    "plt.figure()\n",
    "\n",
    "plt.plot(xdata,xdata*k+d,'r')\n",
    "plt.scatter(x1,y1,c='b')\n",
    "plt.scatter(x2,y2,c='y')\n",
    "plt.show()"
   ]
  }
 ],
 "metadata": {
  "kernelspec": {
   "display_name": "Python 3",
   "language": "python",
   "name": "python3"
  },
  "language_info": {
   "codemirror_mode": {
    "name": "ipython",
    "version": 3
   },
   "file_extension": ".py",
   "mimetype": "text/x-python",
   "name": "python",
   "nbconvert_exporter": "python",
   "pygments_lexer": "ipython3",
   "version": "3.7.1"
  }
 },
 "nbformat": 4,
 "nbformat_minor": 2
}
