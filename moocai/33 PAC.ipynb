{
 "cells": [
  {
   "cell_type": "code",
   "execution_count": 1,
   "metadata": {},
   "outputs": [],
   "source": [
    "import numpy as np\n",
    "import matplotlib.pyplot as plt"
   ]
  },
  {
   "cell_type": "code",
   "execution_count": 4,
   "metadata": {},
   "outputs": [
    {
     "data": {
      "image/png": "[encoded data removed]",
      "text/plain": [
       "<Figure size 432x288 with 1 Axes>"
      ]
     },
     "metadata": {
      "needs_background": "light"
     },
     "output_type": "display_data"
    },
    {
     "name": "stdout",
     "output_type": "stream",
     "text": [
      "(200,)\n"
     ]
    }
   ],
   "source": [
    "data = np.genfromtxt(\"ex0.txt\")\n",
    "x_data = data[:,1]\n",
    "y_data = data[:,2]\n",
    "plt.scatter(x_data,y_data)\n",
    "plt.show()\n",
    "print(x_data.shape)"
   ]
  },
  {
   "cell_type": "code",
   "execution_count": 5,
   "metadata": {},
   "outputs": [
    {
     "data": {
      "text/plain": [
       "array([[0.        , 0.        , 0.        ],\n",
       "       [0.        , 0.08581555, 0.14548505],\n",
       "       [0.        , 0.14548505, 0.25345439]])"
      ]
     },
     "execution_count": 5,
     "metadata": {},
     "output_type": "execute_result"
    }
   ],
   "source": [
    "#数据中心化\n",
    "def zeroMean(dataMat):\n",
    "    meanVal = np.mean(dataMat,axis = 0)\n",
    "    newData = dataMat - meanVal\n",
    "    return newData,meanVal\n",
    "\n",
    "newData,meanVal = zeroMean(data)\n",
    "#np.cov求协方差矩阵，参数rowvar=0说明数据一行代表一个样本\n",
    "covMat = np.cov(newData,rowvar=0)\n",
    "\n",
    "covMat"
   ]
  },
  {
   "cell_type": "code",
   "execution_count": 6,
   "metadata": {},
   "outputs": [],
   "source": [
    "eigVals,eigVects = np.linalg.eig(np.mat(covMat))"
   ]
  },
  {
   "cell_type": "code",
   "execution_count": 7,
   "metadata": {},
   "outputs": [
    {
     "data": {
      "text/plain": [
       "array([0.3375385 , 0.00173145, 0.        ])"
      ]
     },
     "execution_count": 7,
     "metadata": {},
     "output_type": "execute_result"
    }
   ],
   "source": [
    "#特征值\n",
    "eigVals"
   ]
  },
  {
   "cell_type": "code",
   "execution_count": 8,
   "metadata": {},
   "outputs": [
    {
     "data": {
      "text/plain": [
       "matrix([[ 0.        ,  0.        ,  1.        ],\n",
       "        [ 0.50039395,  0.86579784,  0.        ],\n",
       "        [ 0.86579784, -0.50039395,  0.        ]])"
      ]
     },
     "execution_count": 8,
     "metadata": {},
     "output_type": "execute_result"
    }
   ],
   "source": [
    "#特征向量\n",
    "eigVects"
   ]
  },
  {
   "cell_type": "code",
   "execution_count": 9,
   "metadata": {},
   "outputs": [
    {
     "data": {
      "text/plain": [
       "array([2, 1, 0], dtype=int64)"
      ]
     },
     "execution_count": 9,
     "metadata": {},
     "output_type": "execute_result"
    }
   ],
   "source": [
    "eigValIndice = np.argsort(eigVals)\n",
    "eigValIndice"
   ]
  },
  {
   "cell_type": "code",
   "execution_count": 14,
   "metadata": {},
   "outputs": [
    {
     "data": {
      "text/plain": [
       "array([0], dtype=int64)"
      ]
     },
     "execution_count": 14,
     "metadata": {},
     "output_type": "execute_result"
    }
   ],
   "source": [
    "top = 1\n",
    "n_eigValIndice = eigValIndice[-1:-(top+1):-1]\n",
    "n_eigValIndice"
   ]
  },
  {
   "cell_type": "code",
   "execution_count": 15,
   "metadata": {},
   "outputs": [
    {
     "data": {
      "text/plain": [
       "matrix([[0.        ],\n",
       "        [0.50039395],\n",
       "        [0.86579784]])"
      ]
     },
     "execution_count": 15,
     "metadata": {},
     "output_type": "execute_result"
    }
   ],
   "source": [
    "n_eigVect = eigVects[:,n_eigValIndice]\n",
    "n_eigVect"
   ]
  },
  {
   "cell_type": "code",
   "execution_count": 16,
   "metadata": {},
   "outputs": [
    {
     "data": {
      "text/plain": [
       "matrix([[-0.78109659],\n",
       "        [-0.04684754],\n",
       "        [ 0.87251282],\n",
       "        [ 0.48958148],\n",
       "        [ 0.8744644 ],\n",
       "        [ 0.10025102],\n",
       "        [-0.32266423],\n",
       "        [-0.81546628],\n",
       "        [-0.80586766],\n",
       "        [-0.76889859],\n",
       "        [-0.43139238],\n",
       "        [ 0.32599999],\n",
       "        [ 0.50823327],\n",
       "        [-0.4280224 ],\n",
       "        [ 0.9507836 ],\n",
       "        [ 0.17180665],\n",
       "        [-0.34256226],\n",
       "        [-0.78478796],\n",
       "        [ 0.29862983],\n",
       "        [-0.44038355],\n",
       "        [-0.75032199],\n",
       "        [-0.76917893],\n",
       "        [ 0.90789192],\n",
       "        [ 0.51331417],\n",
       "        [-0.88650523],\n",
       "        [-0.41220015],\n",
       "        [-0.80258571],\n",
       "        [-0.54606189],\n",
       "        [ 0.20119288],\n",
       "        [ 0.07483102],\n",
       "        [-0.82108615],\n",
       "        [-0.80550533],\n",
       "        [ 0.04786139],\n",
       "        [ 0.88734981],\n",
       "        [ 0.88042726],\n",
       "        [-0.29277165],\n",
       "        [-0.26786396],\n",
       "        [ 0.87024202],\n",
       "        [-0.17665637],\n",
       "        [ 0.90853459],\n",
       "        [-0.73201102],\n",
       "        [ 0.46017309],\n",
       "        [-0.35234338],\n",
       "        [-0.47408072],\n",
       "        [ 0.02839101],\n",
       "        [-0.7856093 ],\n",
       "        [-0.35284502],\n",
       "        [ 0.09964812],\n",
       "        [ 0.05883637],\n",
       "        [ 0.50085837],\n",
       "        [ 0.48491736],\n",
       "        [-0.39024122],\n",
       "        [-0.70071187],\n",
       "        [ 0.54317358],\n",
       "        [-0.31949603],\n",
       "        [-0.36316263],\n",
       "        [ 0.00304865],\n",
       "        [ 0.48456481],\n",
       "        [ 0.12110613],\n",
       "        [-0.30467317],\n",
       "        [-0.73512893],\n",
       "        [ 0.44435946],\n",
       "        [ 0.45911141],\n",
       "        [ 0.43995219],\n",
       "        [-0.71276993],\n",
       "        [ 0.2259376 ],\n",
       "        [-0.28579863],\n",
       "        [-0.28775987],\n",
       "        [ 0.51376778],\n",
       "        [-0.72893377],\n",
       "        [-0.76299073],\n",
       "        [ 0.39792101],\n",
       "        [-0.41457768],\n",
       "        [ 0.85705472],\n",
       "        [-0.34369814],\n",
       "        [ 0.92563786],\n",
       "        [-0.33185246],\n",
       "        [-0.350397  ],\n",
       "        [-0.4003116 ],\n",
       "        [-0.70081138],\n",
       "        [-0.72049986],\n",
       "        [ 0.45644946],\n",
       "        [ 0.6802857 ],\n",
       "        [ 0.44348703],\n",
       "        [-0.10971648],\n",
       "        [-0.71187642],\n",
       "        [ 0.9187489 ],\n",
       "        [-0.36850954],\n",
       "        [-0.62939361],\n",
       "        [-0.31734235],\n",
       "        [-0.37577133],\n",
       "        [ 0.43682919],\n",
       "        [ 0.11548209],\n",
       "        [-0.7270058 ],\n",
       "        [ 0.48962344],\n",
       "        [ 0.91743825],\n",
       "        [-0.66539328],\n",
       "        [ 0.71686281],\n",
       "        [-0.35655179],\n",
       "        [-0.12237794],\n",
       "        [-0.01213299],\n",
       "        [ 0.01002883],\n",
       "        [-0.31057704],\n",
       "        [ 0.95730756],\n",
       "        [ 0.86529636],\n",
       "        [ 0.06599344],\n",
       "        [-0.77508706],\n",
       "        [-0.36621798],\n",
       "        [-0.11061037],\n",
       "        [-0.23047514],\n",
       "        [ 0.51445449],\n",
       "        [-0.32625716],\n",
       "        [ 0.06495352],\n",
       "        [-0.73204593],\n",
       "        [-0.85749667],\n",
       "        [ 0.0813693 ],\n",
       "        [ 0.91614625],\n",
       "        [ 0.43407166],\n",
       "        [-0.06526196],\n",
       "        [ 0.12540426],\n",
       "        [ 0.49283496],\n",
       "        [-0.77020449],\n",
       "        [ 0.13663557],\n",
       "        [ 0.04874924],\n",
       "        [-0.35244807],\n",
       "        [ 0.85564065],\n",
       "        [-0.15303831],\n",
       "        [ 0.88984278],\n",
       "        [-0.76797684],\n",
       "        [ 0.40554882],\n",
       "        [ 0.18004978],\n",
       "        [ 0.73723709],\n",
       "        [-0.78290819],\n",
       "        [ 0.48637957],\n",
       "        [-0.7048374 ],\n",
       "        [-0.6090883 ],\n",
       "        [-0.74946541],\n",
       "        [-0.27644366],\n",
       "        [-0.66169872],\n",
       "        [ 0.20533927],\n",
       "        [-0.30771507],\n",
       "        [-0.20585959],\n",
       "        [ 0.09666524],\n",
       "        [-0.76551091],\n",
       "        [-0.72461417],\n",
       "        [ 0.88345513],\n",
       "        [-0.5051812 ],\n",
       "        [ 0.05254906],\n",
       "        [ 0.89204175],\n",
       "        [-0.78059815],\n",
       "        [ 0.89723216],\n",
       "        [-0.89273398],\n",
       "        [ 0.10724023],\n",
       "        [-0.74131104],\n",
       "        [ 0.14637126],\n",
       "        [ 0.06103454],\n",
       "        [ 0.3766795 ],\n",
       "        [ 0.91012792],\n",
       "        [-0.57784984],\n",
       "        [ 0.45462179],\n",
       "        [ 0.84112412],\n",
       "        [ 0.87140592],\n",
       "        [ 0.9205277 ],\n",
       "        [ 0.94498794],\n",
       "        [ 0.46525605],\n",
       "        [-0.40728344],\n",
       "        [ 0.44817629],\n",
       "        [ 0.89200332],\n",
       "        [-0.45664501],\n",
       "        [-0.7559952 ],\n",
       "        [-0.52900332],\n",
       "        [ 0.82240874],\n",
       "        [-0.62692129],\n",
       "        [ 0.85731113],\n",
       "        [ 0.93320392],\n",
       "        [ 0.51449753],\n",
       "        [-0.01369907],\n",
       "        [ 0.03959625],\n",
       "        [ 0.04271319],\n",
       "        [-0.37367742],\n",
       "        [ 0.85357816],\n",
       "        [ 0.90500988],\n",
       "        [-0.09153978],\n",
       "        [-0.79383728],\n",
       "        [-0.29633227],\n",
       "        [ 0.62032584],\n",
       "        [-0.28910919],\n",
       "        [ 0.8780665 ],\n",
       "        [ 0.47492577],\n",
       "        [ 0.37603733],\n",
       "        [ 0.84125338],\n",
       "        [ 0.16597475],\n",
       "        [-0.38126648],\n",
       "        [ 0.44831644],\n",
       "        [ 0.06603271],\n",
       "        [-0.33200154],\n",
       "        [ 0.63932946],\n",
       "        [-0.74761643],\n",
       "        [ 0.12075794],\n",
       "        [-0.79775364]])"
      ]
     },
     "execution_count": 16,
     "metadata": {},
     "output_type": "execute_result"
    }
   ],
   "source": [
    "lowDDataMat = newData*n_eigVect\n",
    "lowDDataMat"
   ]
  },
  {
   "cell_type": "code",
   "execution_count": 17,
   "metadata": {},
   "outputs": [
    {
     "data": {
      "text/plain": [
       "matrix([[1.        , 0.09746299, 3.15932976],\n",
       "        [1.        , 0.46487677, 3.795041  ],\n",
       "        [1.        , 0.92491914, 4.59102121],\n",
       "        [1.        , 0.73330261, 4.25948008],\n",
       "        [1.        , 0.9258957 , 4.59271089],\n",
       "        [1.        , 0.538484  , 3.92239861],\n",
       "        [1.        , 0.32685977, 3.5562395 ],\n",
       "        [1.        , 0.08026461, 3.12957255],\n",
       "        [1.        , 0.0850677 , 3.13788302],\n",
       "        [1.        , 0.1035668 , 3.16989077],\n",
       "        [1.        , 0.27245286, 3.46210291],\n",
       "        [1.        , 0.65144742, 4.11785159],\n",
       "        [1.        , 0.74263585, 4.27562877],\n",
       "        [1.        , 0.27413918, 3.46502063],\n",
       "        [1.        , 0.96408536, 4.65878788],\n",
       "        [1.        , 0.57429001, 3.98435133],\n",
       "        [1.        , 0.31690292, 3.53901184],\n",
       "        [1.        , 0.09561585, 3.15613378],\n",
       "        [1.        , 0.63775156, 4.09415456],\n",
       "        [1.        , 0.26795373, 3.45431837],\n",
       "        [1.        , 0.11286242, 3.18597434],\n",
       "        [1.        , 0.10342652, 3.16964804],\n",
       "        [1.        , 0.94262262, 4.62165236],\n",
       "        [1.        , 0.7451783 , 4.28002779],\n",
       "        [1.        , 0.04471715, 3.06806719],\n",
       "        [1.        , 0.28205654, 3.4787195 ],\n",
       "        [1.        , 0.08670997, 3.14072453],\n",
       "        [1.        , 0.21507294, 3.3628223 ],\n",
       "        [1.        , 0.5889947 , 4.00979386],\n",
       "        [1.        , 0.52576399, 3.90039004],\n",
       "        [1.        , 0.07745246, 3.12470689],\n",
       "        [1.        , 0.08524901, 3.13819673],\n",
       "        [1.        , 0.51226855, 3.87703979],\n",
       "        [1.        , 0.93234347, 4.60386704],\n",
       "        [1.        , 0.92887947, 4.59787352],\n",
       "        [1.        , 0.34181784, 3.58212044],\n",
       "        [1.        , 0.35428149, 3.60368546],\n",
       "        [1.        , 0.92378284, 4.58905516],\n",
       "        [1.        , 0.39992122, 3.6826528 ],\n",
       "        [1.        , 0.94294421, 4.62220879],\n",
       "        [1.        , 0.12202511, 3.20182794],\n",
       "        [1.        , 0.71858683, 4.23401836],\n",
       "        [1.        , 0.31200851, 3.53054336],\n",
       "        [1.        , 0.25109188, 3.42514344],\n",
       "        [1.        , 0.50252569, 3.86018237],\n",
       "        [1.        , 0.09520486, 3.15542266],\n",
       "        [1.        , 0.31175749, 3.53010904],\n",
       "        [1.        , 0.53818232, 3.92187663],\n",
       "        [1.        , 0.51776036, 3.8865419 ],\n",
       "        [1.        , 0.7389455 , 4.2692436 ],\n",
       "        [1.        , 0.73096871, 4.2554419 ],\n",
       "        [1.        , 0.29304466, 3.4977315 ],\n",
       "        [1.        , 0.13768702, 3.22892668],\n",
       "        [1.        , 0.76011977, 4.30588001],\n",
       "        [1.        , 0.32844512, 3.55898253],\n",
       "        [1.        , 0.30659461, 3.52117608],\n",
       "        [1.        , 0.48984453, 3.83824102],\n",
       "        [1.        , 0.7307923 , 4.25513666],\n",
       "        [1.        , 0.54891977, 3.94045492],\n",
       "        [1.        , 0.33586239, 3.57181612],\n",
       "        [1.        , 0.12046493, 3.19912846],\n",
       "        [1.        , 0.71067378, 4.22032696],\n",
       "        [1.        , 0.71805557, 4.23309916],\n",
       "        [1.        , 0.70846841, 4.21651115],\n",
       "        [1.        , 0.13165324, 3.21848683],\n",
       "        [1.        , 0.60137681, 4.03121779],\n",
       "        [1.        , 0.3453071 , 3.58815767],\n",
       "        [1.        , 0.3443257 , 3.58645962],\n",
       "        [1.        , 0.74540529, 4.28042053],\n",
       "        [1.        , 0.12356495, 3.20449222],\n",
       "        [1.        , 0.10652305, 3.17500578],\n",
       "        [1.        , 0.68743626, 4.18012065],\n",
       "        [1.        , 0.28086684, 3.47666104],\n",
       "        [1.        , 0.91718399, 4.57763762],\n",
       "        [1.        , 0.31633453, 3.53802839],\n",
       "        [1.        , 0.95150258, 4.63701676],\n",
       "        [1.        , 0.32226204, 3.54828436],\n",
       "        [1.        , 0.31298246, 3.53222853],\n",
       "        [1.        , 0.2880055 , 3.48901258],\n",
       "        [1.        , 0.13763722, 3.22884052],\n",
       "        [1.        , 0.12778523, 3.21179428],\n",
       "        [1.        , 0.71672355, 4.23079445],\n",
       "        [1.        , 0.82872985, 4.42459139],\n",
       "        [1.        , 0.71023723, 4.21957162],\n",
       "        [1.        , 0.43341754, 3.74060921],\n",
       "        [1.        , 0.13210035, 3.21926044],\n",
       "        [1.        , 0.94805539, 4.63105231],\n",
       "        [1.        , 0.30391906, 3.51654674],\n",
       "        [1.        , 0.17337425, 3.29067387],\n",
       "        [1.        , 0.32952281, 3.56084718],\n",
       "        [1.        , 0.3002853 , 3.5102595 ],\n",
       "        [1.        , 0.70690568, 4.21380727],\n",
       "        [1.        , 0.54610554, 3.93558564],\n",
       "        [1.        , 0.1245297 , 3.20616145],\n",
       "        [1.        , 0.73332361, 4.25951641],\n",
       "        [1.        , 0.94739955, 4.62991755],\n",
       "        [1.        , 0.15536023, 3.25950544],\n",
       "        [1.        , 0.84703281, 4.45625977],\n",
       "        [1.        , 0.30990264, 3.52689973],\n",
       "        [1.        , 0.42708182, 3.72964694],\n",
       "        [1.        , 0.48224772, 3.82509678],\n",
       "        [1.        , 0.49333737, 3.84428444],\n",
       "        [1.        , 0.33290813, 3.56670457],\n",
       "        [1.        , 0.96734991, 4.66443632],\n",
       "        [1.        , 0.92130807, 4.58477322],\n",
       "        [1.        , 0.52134172, 3.89273848],\n",
       "        [1.        , 0.10047012, 3.1645328 ],\n",
       "        [1.        , 0.30506574, 3.51853076],\n",
       "        [1.        , 0.43297024, 3.73983528],\n",
       "        [1.        , 0.37299064, 3.63605662],\n",
       "        [1.        , 0.74574891, 4.28101508],\n",
       "        [1.        , 0.32506189, 3.55312875],\n",
       "        [1.        , 0.52082135, 3.89183812],\n",
       "        [1.        , 0.12200765, 3.20179772],\n",
       "        [1.        , 0.05923285, 3.09318274],\n",
       "        [1.        , 0.52903571, 3.90605087],\n",
       "        [1.        , 0.94675304, 4.62879894],\n",
       "        [1.        , 0.70552583, 4.2114198 ],\n",
       "        [1.        , 0.45566231, 3.77909784],\n",
       "        [1.        , 0.55107053, 3.94417624],\n",
       "        [1.        , 0.73493063, 4.26229695],\n",
       "        [1.        , 0.10291333, 3.16876012],\n",
       "        [1.        , 0.55669061, 3.95390028],\n",
       "        [1.        , 0.51271283, 3.87780849],\n",
       "        [1.        , 0.31195612, 3.53045272],\n",
       "        [1.        , 0.91647641, 4.57641333],\n",
       "        [1.        , 0.41173955, 3.70310126],\n",
       "        [1.        , 0.93359094, 4.60602546],\n",
       "        [1.        , 0.10402804, 3.17068882],\n",
       "        [1.        , 0.69125317, 4.18672479],\n",
       "        [1.        , 0.57841482, 3.99148821],\n",
       "        [1.        , 0.85722798, 4.47389978],\n",
       "        [1.        , 0.09655648, 3.15776129],\n",
       "        [1.        , 0.73170039, 4.25670788],\n",
       "        [1.        , 0.13562263, 3.2253548 ],\n",
       "        [1.        , 0.1835349 , 3.30825417],\n",
       "        [1.        , 0.11329104, 3.18671597],\n",
       "        [1.        , 0.34998827, 3.59625718],\n",
       "        [1.        , 0.15720896, 3.26270418],\n",
       "        [1.        , 0.59106953, 4.0133838 ],\n",
       "        [1.        , 0.33434024, 3.56918245],\n",
       "        [1.        , 0.38530811, 3.65736871],\n",
       "        [1.        , 0.5366897 , 3.91929405],\n",
       "        [1.        , 0.10526197, 3.17282381],\n",
       "        [1.        , 0.12572645, 3.20823212],\n",
       "        [1.        , 0.9303946 , 4.60049504],\n",
       "        [1.        , 0.23552938, 3.39821671],\n",
       "        [1.        , 0.51461423, 3.88109836],\n",
       "        [1.        , 0.93469129, 4.60792932],\n",
       "        [1.        , 0.09771241, 3.15976131],\n",
       "        [1.        , 0.93728854, 4.61242316],\n",
       "        [1.        , 0.04160032, 3.06267435],\n",
       "        [1.        , 0.54198136, 3.92844986],\n",
       "        [1.        , 0.11737144, 3.193776  ],\n",
       "        [1.        , 0.56156229, 3.96232942],\n",
       "        [1.        , 0.51886031, 3.88844507],\n",
       "        [1.        , 0.67680714, 4.1617298 ],\n",
       "        [1.        , 0.94374151, 4.62358829],\n",
       "        [1.        , 0.19916644, 3.33530036],\n",
       "        [1.        , 0.715809  , 4.22921207],\n",
       "        [1.        , 0.90921242, 4.56384494],\n",
       "        [1.        , 0.92436525, 4.59006286],\n",
       "        [1.        , 0.94894549, 4.63259239],\n",
       "        [1.        , 0.96118525, 4.65377001],\n",
       "        [1.        , 0.72113031, 4.23841918],\n",
       "        [1.        , 0.28451683, 3.48297637],\n",
       "        [1.        , 0.7125837 , 4.22363156],\n",
       "        [1.        , 0.93467207, 4.60789605],\n",
       "        [1.        , 0.2598166 , 3.44023924],\n",
       "        [1.        , 0.11002358, 3.18106249],\n",
       "        [1.        , 0.22360894, 3.37759157],\n",
       "        [1.        , 0.89984735, 4.5476412 ],\n",
       "        [1.        , 0.17461138, 3.29281441],\n",
       "        [1.        , 0.9173123 , 4.57785962],\n",
       "        [1.        , 0.9552886 , 4.64356744],\n",
       "        [1.        , 0.74577045, 4.28105235],\n",
       "        [1.        , 0.48146407, 3.82374088],\n",
       "        [1.        , 0.50813272, 3.86988385],\n",
       "        [1.        , 0.50969242, 3.87258249],\n",
       "        [1.        , 0.30133308, 3.5120724 ],\n",
       "        [1.        , 0.91544435, 4.57462763],\n",
       "        [1.        , 0.94118047, 4.61915709],\n",
       "        [1.        , 0.44251305, 3.75634656],\n",
       "        [1.        , 0.09108763, 3.1482989 ],\n",
       "        [1.        , 0.34003613, 3.57903766],\n",
       "        [1.        , 0.7987263 , 4.37267827],\n",
       "        [1.        , 0.34365051, 3.58529139],\n",
       "        [1.        , 0.92769816, 4.59582957],\n",
       "        [1.        , 0.72596898, 4.24679121],\n",
       "        [1.        , 0.6764858 , 4.1611738 ],\n",
       "        [1.        , 0.9092771 , 4.56395686],\n",
       "        [1.        , 0.57137176, 3.97930208],\n",
       "        [1.        , 0.29753556, 3.5055018 ],\n",
       "        [1.        , 0.71265383, 4.2237529 ],\n",
       "        [1.        , 0.52136137, 3.89277247],\n",
       "        [1.        , 0.32218744, 3.54815529],\n",
       "        [1.        , 0.80823559, 4.38913156],\n",
       "        [1.        , 0.11421626, 3.18831681],\n",
       "        [1.        , 0.54874554, 3.94015347],\n",
       "        [1.        , 0.08912791, 3.14490812]])"
      ]
     },
     "execution_count": 17,
     "metadata": {},
     "output_type": "execute_result"
    }
   ],
   "source": [
    "reconMat = (lowDDataMat*n_eigVect.T) + meanVal\n",
    "reconMat"
   ]
  },
  {
   "cell_type": "code",
   "execution_count": 20,
   "metadata": {},
   "outputs": [
    {
     "data": {
      "image/png": "[encoded data removed]",
      "text/plain": [
       "<Figure size 432x288 with 1 Axes>"
      ]
     },
     "metadata": {
      "needs_background": "light"
     },
     "output_type": "display_data"
    }
   ],
   "source": [
    "data = np.genfromtxt('ex0.txt')\n",
    "\n",
    "x_data = data[:,1]\n",
    "y_data = data[:,2]\n",
    "\n",
    "plt.scatter(x_data,y_data)\n",
    "\n",
    "x_data = np.array(reconMat)[:,1]\n",
    "y_data = np.array(reconMat)[:,2]\n",
    "\n",
    "plt.scatter(x_data,y_data,c='r')\n",
    "plt.show()"
   ]
  }
 ],
 "metadata": {
  "kernelspec": {
   "display_name": "Python 3",
   "language": "python",
   "name": "python3"
  },
  "language_info": {
   "codemirror_mode": {
    "name": "ipython",
    "version": 3
   },
   "file_extension": ".py",
   "mimetype": "text/x-python",
   "name": "python",
   "nbconvert_exporter": "python",
   "pygments_lexer": "ipython3",
   "version": "3.7.1"
  }
 },
 "nbformat": 4,
 "nbformat_minor": 2
}
