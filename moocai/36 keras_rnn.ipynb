{
 "cells": [
  {
   "cell_type": "code",
   "execution_count": 3,
   "metadata": {},
   "outputs": [
    {
     "name": "stderr",
     "output_type": "stream",
     "text": [
      "Using TensorFlow backend.\n"
     ]
    }
   ],
   "source": [
    "import numpy as np\n",
    "from keras.datasets import mnist\n",
    "from keras.utils import np_utils\n",
    "from keras.layers import Dense,Dropout,Convolution2D,MaxPooling2D,Flatten\n",
    "from keras.models import Sequential\n",
    "from keras.optimizers import SGD,Adam\n",
    "from keras.layers.recurrent import SimpleRNN\n"
   ]
  },
  {
   "cell_type": "code",
   "execution_count": 7,
   "metadata": {},
   "outputs": [
    {
     "name": "stdout",
     "output_type": "stream",
     "text": [
      "Epoch 1/2\n",
      "60000/60000 [==============================] - 8s 126us/step - loss: 1.5552 - acc: 0.5092\n",
      "Epoch 2/2\n",
      "60000/60000 [==============================] - 7s 117us/step - loss: 0.8603 - acc: 0.7387\n",
      "10000/10000 [==============================] - 1s 60us/step\n",
      "test loss 0.7348866209983825\n",
      "test accuracy 0.7709\n"
     ]
    }
   ],
   "source": [
    "#数据长度一行有28个像素\n",
    "input_size = 28\n",
    "#序列长度一共有28行\n",
    "time_steps = 28\n",
    "#隐藏层cell个数\n",
    "cell_size = 50\n",
    "\n",
    "#载入数据\n",
    "(x_train,y_train),(x_test,y_test)=mnist.load_data()\n",
    "#60000，,28,28\n",
    "x_train = x_train/255.0\n",
    "x_test = x_test/255.0\n",
    "\n",
    "#one_hot\n",
    "y_train = np_utils.to_categorical(y_train,num_classes=10)\n",
    "y_test = np_utils.to_categorical(y_test,num_classes=10)\n",
    "\n",
    "model = Sequential()\n",
    "\n",
    "model.add(SimpleRNN(\n",
    "    units = cell_size,#输出\n",
    "    input_shape=(time_steps,input_size),#输入\n",
    "))\n",
    "\n",
    "model.add(Dense(10,activation='softmax'))\n",
    "adam = Adam(lr=0.0001)\n",
    "\n",
    "model.compile(optimizer=adam,loss='categorical_crossentropy',metrics=['accuracy'])\n",
    "\n",
    "model.fit(x_train,y_train,batch_size=64,epochs=2)\n",
    "\n",
    "loss,accuracy=model.evaluate(x_test,y_test)\n",
    "print('test loss',loss)\n",
    "print('test accuracy',accuracy)"
   ]
  }
 ],
 "metadata": {
  "kernelspec": {
   "display_name": "Python 3",
   "language": "python",
   "name": "python3"
  },
  "language_info": {
   "codemirror_mode": {
    "name": "ipython",
    "version": 3
   },
   "file_extension": ".py",
   "mimetype": "text/x-python",
   "name": "python",
   "nbconvert_exporter": "python",
   "pygments_lexer": "ipython3",
   "version": "3.7.1"
  }
 },
 "nbformat": 4,
 "nbformat_minor": 2
}
