{
 "cells": [
  {
   "cell_type": "code",
   "execution_count": 11,
   "metadata": {},
   "outputs": [],
   "source": [
    "import numpy as np\n",
    "from keras.datasets import mnist\n",
    "from keras.utils import np_utils\n",
    "from keras.layers import Dense,Dropout\n",
    "from keras.models import Sequential\n",
    "from keras.optimizers import SGD,Adam\n"
   ]
  },
  {
   "cell_type": "code",
   "execution_count": 12,
   "metadata": {},
   "outputs": [
    {
     "name": "stdout",
     "output_type": "stream",
     "text": [
      "x_shape: (60000, 28, 28)\n",
      "y_shape: (60000,)\n",
      "Epoch 1/10\n",
      "60000/60000 [==============================] - 9s 158us/step - loss: 0.3668 - acc: 0.9234\n",
      "Epoch 2/10\n",
      "60000/60000 [==============================] - 15s 246us/step - loss: 0.2357 - acc: 0.9603\n",
      "Epoch 3/10\n",
      "60000/60000 [==============================] - 12s 193us/step - loss: 0.2062 - acc: 0.9685\n",
      "Epoch 4/10\n",
      "60000/60000 [==============================] - 9s 148us/step - loss: 0.1931 - acc: 0.9702\n",
      "Epoch 5/10\n",
      "60000/60000 [==============================] - 9s 145us/step - loss: 0.1819 - acc: 0.9729\n",
      "Epoch 6/10\n",
      "60000/60000 [==============================] - 8s 141us/step - loss: 0.1758 - acc: 0.9749\n",
      "Epoch 7/10\n",
      "60000/60000 [==============================] - 8s 128us/step - loss: 0.1692 - acc: 0.9761\n",
      "Epoch 8/10\n",
      "60000/60000 [==============================] - ETA: 0s - loss: 0.1663 - acc: 0.977 - 8s 130us/step - loss: 0.1663 - acc: 0.9772\n",
      "Epoch 9/10\n",
      "60000/60000 [==============================] - 8s 129us/step - loss: 0.1642 - acc: 0.9777\n",
      "Epoch 10/10\n",
      "60000/60000 [==============================] - 7s 124us/step - loss: 0.1608 - acc: 0.9789\n",
      "10000/10000 [==============================] - 0s 37us/step\n",
      "loss 0.1669815091609955\n",
      "acc 0.9766\n",
      "60000/60000 [==============================] - 1s 23us/step\n",
      "train_loss 0.14567171678145727\n",
      "train_acc 0.9837666666666667\n"
     ]
    }
   ],
   "source": [
    "from keras.regularizers import l2\n",
    "(x_train,y_train),(x_test,y_test) = mnist.load_data()\n",
    "\n",
    "print('x_shape:',x_train.shape)\n",
    "print('y_shape:',y_train.shape)\n",
    "#60000,28 28 -> 60000 784\n",
    "x_train = x_train.reshape(x_train.shape[0],-1)/255.0\n",
    "x_test = x_test.reshape(x_test.shape[0],-1)/255.0\n",
    "y_train = np_utils.to_categorical(y_train,num_classes=10)\n",
    "y_test = np_utils.to_categorical(y_test,num_classes=10)\n",
    "\n",
    "model = Sequential([\n",
    "        Dense(units=200,input_dim=784,bias_initializer='one',activation='tanh',kernel_regularizer=l2(0.0003)),\n",
    "#         Dropout(0.4),\n",
    "        Dense(units=100,bias_initializer='one',activation='tanh',kernel_regularizer=l2(0.0003)),\n",
    "#         Dropout(0.4),\n",
    "        Dense(units=10,bias_initializer='one',activation='softmax',kernel_regularizer=l2(0.0003))\n",
    "])\n",
    "\n",
    "#\n",
    "sgd = SGD(lr=0.2)\n",
    "adam = Adam(0.001)#speed fater than sgd\n",
    "model.compile(\n",
    "    optimizer = adam,\n",
    "    loss = 'categorical_crossentropy',#mse\n",
    "    metrics=['accuracy']\n",
    ")\n",
    "# 60000/32 cishu   * 10\n",
    "model.fit(x_train,y_train,batch_size=32,epochs=10)\n",
    "\n",
    "#eval\n",
    "loss,accuracy = model.evaluate(x_test,y_test)\n",
    "print('loss',loss)\n",
    "print('acc',accuracy)\n",
    "\n",
    "\n",
    "loss,accuracy = model.evaluate(x_train,y_train)\n",
    "print('train_loss',loss)\n",
    "print('train_acc',accuracy)\n"
   ]
  }
 ],
 "metadata": {
  "kernelspec": {
   "display_name": "Python 3",
   "language": "python",
   "name": "python3"
  },
  "language_info": {
   "codemirror_mode": {
    "name": "ipython",
    "version": 3
   },
   "file_extension": ".py",
   "mimetype": "text/x-python",
   "name": "python",
   "nbconvert_exporter": "python",
   "pygments_lexer": "ipython3",
   "version": "3.7.1"
  }
 },
 "nbformat": 4,
 "nbformat_minor": 2
}
