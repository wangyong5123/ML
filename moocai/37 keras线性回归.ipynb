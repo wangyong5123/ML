{
 "cells": [
  {
   "cell_type": "code",
   "execution_count": 11,
   "metadata": {},
   "outputs": [],
   "source": [
    "import keras\n",
    "import numpy as np\n",
    "import matplotlib.pyplot as plt\n",
    "\n",
    "#按照顺序构成模型\n",
    "from keras.models import Sequential\n",
    "\n",
    "#全连接层\n",
    "from keras.layers import Dense\n",
    "\n",
    "x_data = np.random.rand(100)\n",
    "noise = np.random.normal(0,0.01,x_data.shape)\n",
    "\n",
    "y_data = x_data * 0.1 + 0.2 #+noise\n",
    "\n",
    "#plt.scatter(x_data,y_data)\n",
    "#plt.show()"
   ]
  },
  {
   "cell_type": "code",
   "execution_count": 10,
   "metadata": {},
   "outputs": [
    {
     "name": "stdout",
     "output_type": "stream",
     "text": [
      "cost: 0.3403844\n",
      "cost: 0.028315546\n",
      "cost: 0.0082248235\n",
      "cost: 0.0023890606\n",
      "cost: 0.000693951\n",
      "cost: 0.00020157237\n",
      "cost: 5.855039e-05\n",
      "W: [[0.12717673]] b: [0.18561625]\n"
     ]
    },
    {
     "data": {
      "image/png": "[encoded data removed]",
      "text/plain": [
       "<Figure size 432x288 with 1 Axes>"
      ]
     },
     "metadata": {
      "needs_background": "light"
     },
     "output_type": "display_data"
    }
   ],
   "source": [
    "#构建顺序模型\n",
    "model = Sequential()\n",
    "#在模型中添加全连接层\n",
    "model.add(Dense(units=1,input_dim = 1))\n",
    "#sgd 随机梯度下降\n",
    "#mse 均方误差\n",
    "model.compile(optimizer='sgd',loss='mse')\n",
    "for step in range(3001):\n",
    "    cost = model.train_on_batch(x_data,y_data)\n",
    "    if step % 500 == 0:\n",
    "        print('cost:',cost)\n",
    "#权值和偏置值\n",
    "W,b = model.layers[0].get_weights()\n",
    "print('W:',W,'b:',b)\n",
    "\n",
    "y_pred = model.predict(x_data)\n",
    "plt.scatter(x_data,y_data)\n",
    "plt.plot(x_data,y_pred,'r-',lw=3)\n",
    "plt.show()"
   ]
  }
 ],
 "metadata": {
  "kernelspec": {
   "display_name": "Python 3",
   "language": "python",
   "name": "python3"
  },
  "language_info": {
   "codemirror_mode": {
    "name": "ipython",
    "version": 3
   },
   "file_extension": ".py",
   "mimetype": "text/x-python",
   "name": "python",
   "nbconvert_exporter": "python",
   "pygments_lexer": "ipython3",
   "version": "3.7.1"
  }
 },
 "nbformat": 4,
 "nbformat_minor": 2
}
