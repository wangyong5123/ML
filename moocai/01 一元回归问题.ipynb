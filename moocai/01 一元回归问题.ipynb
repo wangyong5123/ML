{
 "cells": [
  {
   "cell_type": "markdown",
   "metadata": {},
   "source": [
    "回归问题：\n",
    "·高尔顿：\n",
    "\n",
    "房价预测：\n",
    "\n",
    "一元线性回归：一个自变量，一个因变量\n",
    "\n",
    "求解方程：\n",
    "    h(x) = a x + b\n",
    "\n",
    "代价函数：\n",
    "    最小二乘法\n",
    "    真实值和预测值误差的平方和\n",
    "    找到合适的参数，使得误差平方和最小\n",
    "梯度下降法：\n",
    "   使得代价函数的值最小\n",
    "   学习率，调节步长\n",
    "    "
   ]
  },
  {
   "cell_type": "code",
   "execution_count": 1,
   "metadata": {},
   "outputs": [],
   "source": [
    "import numpy as np\n",
    "import matplotlib.pyplot as plt"
   ]
  },
  {
   "cell_type": "code",
   "execution_count": 3,
   "metadata": {},
   "outputs": [
    {
     "data": {
      "image/png": "[encoded data removed]",
      "text/plain": [
       "<Figure size 432x288 with 1 Axes>"
      ]
     },
     "metadata": {
      "needs_background": "light"
     },
     "output_type": "display_data"
    }
   ],
   "source": [
    "data = np.genfromtxt(\"data.csv\",delimiter=\",\")\n",
    "x_data = data[:,0]\n",
    "y_data = data[:,1]\n",
    "plt.scatter(x_data,y_data)\n",
    "plt.show()"
   ]
  },
  {
   "cell_type": "code",
   "execution_count": 4,
   "metadata": {},
   "outputs": [],
   "source": [
    "lr = 0.0001\n",
    "b = 0\n",
    "k = 0\n",
    "epochs=50\n",
    "\n",
    "def compute_error(b,k,x_data,y_data):\n",
    "    totalError = 0\n",
    "    for i in range(0,len(x_data)):\n",
    "        totalError +=(y_data[i] - (k*x_data[i] +b))**2\n",
    "    return totalError / (float(len(x_data))*2.0)\n",
    "\n",
    "def gradient_descent_runner(x_data,y_data,b,k,lr,epochs):\n",
    "    m = float(len(x_data))\n",
    "    \n",
    "    for i in range(epochs):\n",
    "        b_grad = 0\n",
    "        k_grad = 0\n",
    "        \n",
    "        for j in range(0,len(x_data)):\n",
    "            b_grad += (1/m) *((k*x_data[j] +b) - y_data[i])\n",
    "            k_grad += (1/m) *x_data[j] * (((k*x_data[j]) +b) - y_data[j])\n",
    "        b = b - (lr*b_grad)\n",
    "        k = k - (lr*k_grad)\n",
    "        \n",
    "        \n",
    "    return b,k"
   ]
  },
  {
   "cell_type": "code",
   "execution_count": 5,
   "metadata": {},
   "outputs": [
    {
     "name": "stdout",
     "output_type": "stream",
     "text": [
      "staring b=0,k=0,error=2782.5539172416056\n",
      "after b=0.024712251804986027,k=1.4790109980454713,error=56.32664298122392\n"
     ]
    },
    {
     "data": {
      "image/png": "[encoded data removed]",
      "text/plain": [
       "<Figure size 432x288 with 1 Axes>"
      ]
     },
     "metadata": {
      "needs_background": "light"
     },
     "output_type": "display_data"
    }
   ],
   "source": [
    "\n",
    "print(\"staring b={0},k={1},error={2}\".format(b,k,compute_error(b,k,x_data,y_data)))\n",
    "b,k = gradient_descent_runner(x_data,y_data,b,k,lr,epochs)\n",
    "print(\"after b={0},k={1},error={2}\".format(b,k,compute_error(b,k,x_data,y_data)))\n",
    "\n",
    "plt.plot(x_data,y_data,'b.')\n",
    "plt.plot(x_data,k*x_data + b,'r')\n",
    "plt.show()"
   ]
  },
  {
   "cell_type": "code",
   "execution_count": 7,
   "metadata": {},
   "outputs": [],
   "source": [
    "#使用sklearn\n",
    "from sklearn.linear_model import LinearRegression\n",
    "import numpy as np\n",
    "import matplotlib.pyplot as plt\n"
   ]
  },
  {
   "cell_type": "code",
   "execution_count": 13,
   "metadata": {},
   "outputs": [
    {
     "data": {
      "text/plain": [
       "LinearRegression(copy_X=True, fit_intercept=True, n_jobs=None,\n",
       "         normalize=False)"
      ]
     },
     "execution_count": 13,
     "metadata": {},
     "output_type": "execute_result"
    }
   ],
   "source": [
    "data = np.genfromtxt(\"data.csv\",delimiter=\",\")\n",
    "x_data = data[:,0,np.newaxis]\n",
    "#y_data = data[:,1]\n",
    "#print(y_data)  []\n",
    "y_data = data[:,1,np.newaxis]\n",
    "#print(y_data) [[]] 增加了维度\n",
    "\n",
    "model = LinearRegression()\n",
    "model.fit(x_data,y_data)"
   ]
  },
  {
   "cell_type": "code",
   "execution_count": 15,
   "metadata": {},
   "outputs": [
    {
     "data": {
      "image/png": "[encoded data removed]",
      "text/plain": [
       "<Figure size 432x288 with 1 Axes>"
      ]
     },
     "metadata": {
      "needs_background": "light"
     },
     "output_type": "display_data"
    }
   ],
   "source": [
    "plt.plot(x_data,y_data,'b.')\n",
    "plt.plot(x_data,model.predict(x_data),'r')\n",
    "plt.show()"
   ]
  }
 ],
 "metadata": {
  "kernelspec": {
   "display_name": "Python 3",
   "language": "python",
   "name": "python3"
  },
  "language_info": {
   "codemirror_mode": {
    "name": "ipython",
    "version": 3
   },
   "file_extension": ".py",
   "mimetype": "text/x-python",
   "name": "python",
   "nbconvert_exporter": "python",
   "pygments_lexer": "ipython3",
   "version": "3.7.1"
  }
 },
 "nbformat": 4,
 "nbformat_minor": 2
}
