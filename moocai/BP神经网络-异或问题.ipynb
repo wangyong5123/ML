{
 "cells": [
  {
   "cell_type": "code",
   "execution_count": 15,
   "metadata": {},
   "outputs": [],
   "source": [
    "import numpy as np\n"
   ]
  },
  {
   "cell_type": "code",
   "execution_count": 16,
   "metadata": {},
   "outputs": [
    {
     "name": "stdout",
     "output_type": "stream",
     "text": [
      "[[-0.45996872 -0.92915072 -0.70939922 -0.45522279]\n",
      " [ 0.42833644  0.05669537 -0.53374041  0.99417502]\n",
      " [ 0.53434303 -0.45660483 -0.18792995 -0.56758661]]\n",
      "[[0.32848626]\n",
      " [0.87833122]\n",
      " [0.82751773]\n",
      " [0.43468476]]\n"
     ]
    }
   ],
   "source": [
    "#输入数据，增加非线性项目  x0 x1 x2 x1*x1 x1*x2 x2*x2 \n",
    "X = np.array([[1,0,0],\n",
    "             [1,0,1],\n",
    "             [1,1,0],\n",
    "             [1,1,1]])\n",
    "#标签\n",
    "Y = np.array([[0,1,1,0]])\n",
    "#权值初始化，3行1列 取值范围-1 1\n",
    "V = np.random.random((3,4))*2 - 1\n",
    "\n",
    "W = np.random.random((4,1)) *2 - 1\n",
    "     \n",
    "print(V)\n",
    "print(W)\n",
    "#设置学习率\n",
    "lr = 0.11\n",
    "\n",
    "\n",
    "def sigmoid(x):\n",
    "     return 1/(1+np.exp(-x))\n",
    "def dsigmoid(x):\n",
    "     return x*(1-x)\n",
    "\n",
    "     \n",
    "def update():\n",
    "    global X,Y,W,V,lr\n",
    "    L1 = sigmoid(np.dot(X,V))#(4,4)\n",
    "    L2 = sigmoid(np.dot(L1,W))#(4,1)\n",
    "     \n",
    "    L2_delta = (Y.T - L2)*dsigmoid(L2)\n",
    "    L1_delta = L2_delta.dot(W.T)*dsigmoid(L1)\n",
    "    W_C = lr*L1.T.dot(L2_delta)\n",
    "    V_C = lr*X.T.dot(L1_delta)\n",
    "     \n",
    "    W = W+W_C\n",
    "    V = V+V_C\n"
   ]
  },
  {
   "cell_type": "code",
   "execution_count": 17,
   "metadata": {},
   "outputs": [
    {
     "name": "stdout",
     "output_type": "stream",
     "text": [
      "Error: 0.5000760081931656\n",
      "Error: 0.49980555698390433\n",
      "Error: 0.4990425248746535\n",
      "Error: 0.4974882511379079\n",
      "Error: 0.4918893461942967\n",
      "Error: 0.4668258057304903\n",
      "Error: 0.38578803764933106\n",
      "Error: 0.24279979192716203\n",
      "Error: 0.1561621893222436\n",
      "Error: 0.11605495581267941\n",
      "Error: 0.09413450287184631\n",
      "Error: 0.0803419413485183\n",
      "Error: 0.07080851607674946\n",
      "Error: 0.06378111375786369\n",
      "Error: 0.05835640419830596\n",
      "Error: 0.05402204541749111\n",
      "Error: 0.05046545012567192\n",
      "Error: 0.04748472700213347\n",
      "Error: 0.04494340772623007\n",
      "Error: 0.04274575661603583\n",
      "Error: 0.04082250970978282\n",
      "Error: 0.03912223560109852\n",
      "Error: 0.0376058873484947\n",
      "Error: 0.03624324689060904\n",
      "Error: 0.035010534844638334\n",
      "Error: 0.033888761717167495\n",
      "Error: 0.032862564450092446\n",
      "Error: 0.03191936876981828\n",
      "Error: 0.031048775194347684\n",
      "Error: 0.030242101680390154\n",
      "Error: 0.02949203796688061\n",
      "Error: 0.02879238087399416\n",
      "Error: 0.02813782915173935\n",
      "Error: 0.02752382272774838\n",
      "Error: 0.02694641547048277\n",
      "Error: 0.026402173541555062\n",
      "Error: 0.025888093491590988\n",
      "Error: 0.02540153573814912\n",
      "Error: 0.0249401701362605\n",
      "Error: 0.024501931135717022\n",
      "[[0.02615607]\n",
      " [0.97801126]\n",
      " [0.9741583 ]\n",
      " [0.02235667]]\n",
      "0\n",
      "1\n",
      "1\n",
      "0\n"
     ]
    }
   ],
   "source": [
    "for i in range(20000):\n",
    "    update()\n",
    "    if i%500 == 0:\n",
    "        L1 = sigmoid(np.dot(X,V))#隐藏层(4,4)\n",
    "        L2 = sigmoid(np.dot(L1,W))#输出层(4,1)\n",
    "        print(\"Error:\",np.mean(np.abs(Y.T - L2)))\n",
    "\n",
    "L1 = sigmoid(np.dot(X,V))\n",
    "L2 = sigmoid(np.dot(L1,W))\n",
    "print(L2)\n",
    "\n",
    "def judge(x):\n",
    "    if x >= 0.5:\n",
    "        return 1\n",
    "    else:\n",
    "        return 0\n",
    "for i in map(judge,L2):\n",
    "    print(i)"
   ]
  }
 ],
 "metadata": {
  "kernelspec": {
   "display_name": "Python 3",
   "language": "python",
   "name": "python3"
  },
  "language_info": {
   "codemirror_mode": {
    "name": "ipython",
    "version": 3
   },
   "file_extension": ".py",
   "mimetype": "text/x-python",
   "name": "python",
   "nbconvert_exporter": "python",
   "pygments_lexer": "ipython3",
   "version": "3.7.1"
  }
 },
 "nbformat": 4,
 "nbformat_minor": 2
}
