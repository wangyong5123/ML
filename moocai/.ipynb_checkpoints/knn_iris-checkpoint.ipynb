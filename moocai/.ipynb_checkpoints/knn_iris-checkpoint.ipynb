{
 "cells": [
  {
   "cell_type": "code",
   "execution_count": 9,
   "metadata": {},
   "outputs": [],
   "source": [
    "import numpy as np\n",
    "from sklearn import datasets\n",
    "from sklearn.model_selection import train_test_split\n",
    "from sklearn.metrics import classification_report,confusion_matrix\n",
    "import operator\n",
    "import random"
   ]
  },
  {
   "cell_type": "code",
   "execution_count": 10,
   "metadata": {},
   "outputs": [],
   "source": [
    "def knn(x_test,x_data,y_data,k):\n",
    "    #计算样本数量\n",
    "    x_data_size = x_data.shape[0]\n",
    "    #复制x_test\n",
    "    np.tile(x_test,(x_data_size,1))\n",
    "    diffMat = np.tile(x_test,(x_data_size,1)) - x_data\n",
    "    #计算差值的平方\n",
    "    sqDiffMat = diffMat**2\n",
    "    #求和\n",
    "    sqDistance = sqDiffMat.sum(axis = 1)\n",
    "    #开方\n",
    "    distance = sqDistance**0.5\n",
    "    #从小到大排序\n",
    "    sortedDistaces = distance.argsort()\n",
    "    classCount={}\n",
    "    for i in range(k):\n",
    "        votelabel= y_data[sortedDistaces[i]]\n",
    "        #统计标签数量\n",
    "        classCount[votelabel] = classCount.get(votelabel,0)+1\n",
    "    #根据operator.itemgetter(1)第一个值对classCount排序，然后再取倒叙\n",
    "    sortedClassCount=sorted(classCount.items(),key=operator.itemgetter(1),reverse=True)\n",
    "    #获取数量最多的标签\n",
    "    return sortedClassCount[0][0]"
   ]
  },
  {
   "cell_type": "code",
   "execution_count": 11,
   "metadata": {},
   "outputs": [
    {
     "ename": "NameError",
     "evalue": "name 'classfication_report' is not defined",
     "output_type": "error",
     "traceback": [
      "\u001b[1;31m---------------------------------------------------------------------------\u001b[0m",
      "\u001b[1;31mNameError\u001b[0m                                 Traceback (most recent call last)",
      "\u001b[1;32m<ipython-input-11-24bdb6d2573c>\u001b[0m in \u001b[0;36m<module>\u001b[1;34m\u001b[0m\n\u001b[0;32m     22\u001b[0m     \u001b[0mpredictions\u001b[0m\u001b[1;33m.\u001b[0m\u001b[0mappend\u001b[0m\u001b[1;33m(\u001b[0m\u001b[0mknn\u001b[0m\u001b[1;33m(\u001b[0m\u001b[0mx_test\u001b[0m\u001b[1;33m[\u001b[0m\u001b[0mi\u001b[0m\u001b[1;33m]\u001b[0m\u001b[1;33m,\u001b[0m\u001b[0mx_train\u001b[0m\u001b[1;33m,\u001b[0m\u001b[0my_train\u001b[0m\u001b[1;33m,\u001b[0m\u001b[1;36m5\u001b[0m\u001b[1;33m)\u001b[0m\u001b[1;33m)\u001b[0m\u001b[1;33m\u001b[0m\u001b[1;33m\u001b[0m\u001b[0m\n\u001b[0;32m     23\u001b[0m \u001b[1;33m\u001b[0m\u001b[0m\n\u001b[1;32m---> 24\u001b[1;33m \u001b[0mprint\u001b[0m\u001b[1;33m(\u001b[0m\u001b[0mclassfication_report\u001b[0m\u001b[1;33m(\u001b[0m\u001b[0my_test\u001b[0m\u001b[1;33m,\u001b[0m\u001b[0mpredictions\u001b[0m\u001b[1;33m)\u001b[0m\u001b[1;33m)\u001b[0m\u001b[1;33m\u001b[0m\u001b[1;33m\u001b[0m\u001b[0m\n\u001b[0m",
      "\u001b[1;31mNameError\u001b[0m: name 'classfication_report' is not defined"
     ]
    }
   ],
   "source": [
    "iris = datasets.load_iris()\n",
    "#x_train,x_test,y_train,y_test = train_test_split(iris.data,iris.target,test_size=0.2)#分割数据0.2为测试数据，0.8为训练数据\n",
    "\n",
    "#打乱数据\n",
    "data_size = iris.data.shape[0]\n",
    "index = [i for i in range(data_size)]\n",
    "random.shuffle(index)\n",
    "iris.data = iris.data[index]\n",
    "iris.target = iris.target[index]\n",
    "\n",
    "#切分数据集\n",
    "test_size = 40\n",
    "x_train = iris.data[test_size:]\n",
    "x_test = iris.data[:test_size]\n",
    "\n",
    "y_train = iris.target[test_size:]\n",
    "y_test = iris.target[:test_size]\n",
    "\n",
    "predictions=[]\n",
    "\n",
    "for i in range(x_test.shape[0]):\n",
    "    predictions.append(knn(x_test[i],x_train,y_train,5))\n",
    "    \n",
    "print(classification_report(y_test,predictions))"
   ]
  }
 ],
 "metadata": {
  "kernelspec": {
   "display_name": "Python 3",
   "language": "python",
   "name": "python3"
  },
  "language_info": {
   "codemirror_mode": {
    "name": "ipython",
    "version": 3
   },
   "file_extension": ".py",
   "mimetype": "text/x-python",
   "name": "python",
   "nbconvert_exporter": "python",
   "pygments_lexer": "ipython3",
   "version": "3.7.1"
  }
 },
 "nbformat": 4,
 "nbformat_minor": 2
}
