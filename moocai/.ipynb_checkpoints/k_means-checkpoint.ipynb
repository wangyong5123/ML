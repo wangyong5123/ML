{
 "cells": [
  {
   "cell_type": "code",
   "execution_count": 89,
   "metadata": {},
   "outputs": [],
   "source": [
    "import numpy as np\n",
    "import matplotlib.pyplot as plt"
   ]
  },
  {
   "cell_type": "code",
   "execution_count": 90,
   "metadata": {},
   "outputs": [
    {
     "data": {
      "image/png": "[encoded data removed]",
      "text/plain": [
       "<Figure size 432x288 with 1 Axes>"
      ]
     },
     "metadata": {
      "needs_background": "light"
     },
     "output_type": "display_data"
    }
   ],
   "source": [
    "data = np.genfromtxt(\"testSet.txt\",delimiter=\"\")\n",
    "\n",
    "#print(data)\n",
    "plt.scatter(data[:,0],data[:,1])\n",
    "plt.show()"
   ]
  },
  {
   "cell_type": "code",
   "execution_count": 91,
   "metadata": {},
   "outputs": [],
   "source": [
    "def enclDistance(vector1,vector2):\n",
    "    return np.sqrt(sum((vector2 - vector1)**2))\n",
    "\n",
    "def initCentroids(data,k):\n",
    "    numSamples,dim = data.shape\n",
    "    #k个质心，列数跟样本的列数一样\n",
    "    centroids = np.zeros((k,dim))\n",
    "    #随机选出k个质心\n",
    "    for i in range(k):\n",
    "        #随机选出一个样本的索引\n",
    "        index = int(np.random.uniform(0,numSamples))\n",
    "        #作为初始化的质心\n",
    "        centroids[i,:] = data[index,:]\n",
    "    return centroids\n",
    "\n",
    "def kmeans(data,k):\n",
    "    #\n",
    "    numSamples = data.shape[0]\n",
    "    #样本的属性，第一列保存该样本属于哪个簇，第二列保存该样本跟它所属的误差(距离)\n",
    "    clusterData = np.array(np.zeros((numSamples,2)))\n",
    "    clusterChanged = True\n",
    "    \n",
    "    centroids = initCentroids(data,k)\n",
    "    \n",
    "    while clusterChanged:\n",
    "        clusterChanged = False\n",
    "        #循环每一个样本\n",
    "        for i in range(numSamples):\n",
    "            #最小距离\n",
    "            minDist = 100000.0\n",
    "            #定义样本所属的簇\n",
    "            minIndex = 0\n",
    "            #循环每个样本与质心之间的距离\n",
    "            for j in range(k):\n",
    "                #循环每一个质心和样本，计算距离\n",
    "                distance = enclDistance(centroids[j,:],data[i,:])\n",
    "                #如果计算的距离小于最小距离，更新最小距离\n",
    "                if distance < minDist:\n",
    "                    minDist = distance\n",
    "                    #更新\n",
    "                    clusterData[i,1] = minDist\n",
    "                    #\n",
    "                    minIndex = j\n",
    "                    \n",
    "            #如果样本的属性的簇发生了变化,第0列，表示簇\n",
    "            if clusterData[i,0] != minIndex:\n",
    "                #质心要重新计算\n",
    "                clusterChanged = True\n",
    "                clusterData[i,0] = minIndex\n",
    "                    \n",
    "        for j in range(k):\n",
    "            #获取第j个簇所有的样本所在的索引\n",
    "            cluster_index = np.nonzero(clusterData[:,0] == j)\n",
    "            #第j个簇所有的样本点\n",
    "            pointsInCluster = data[cluster_index]\n",
    "            #计算质心\n",
    "            centroids[j,:] = np.mean(pointsInCluster,axis = 0)\n",
    "            \n",
    "    return centroids,clusterData\n",
    "\n",
    "def showCluster(data,k,centroids,clusterData):\n",
    "    numSamples,dim = data.shape\n",
    "    \n",
    "    if dim !=2:\n",
    "        print(\"dimension of your data is not 2!\")\n",
    "        return 1\n",
    "    \n",
    "    mark = ['or','ob','og','ok','-r','+r','sr','dr','<r','pr']\n",
    "    if k > len(mark):\n",
    "        print(\"your k is too large!\")\n",
    "        return 1\n",
    "    \n",
    "    for i in range(numSamples):\n",
    "        markIndex = int(clusterData[i,0])\n",
    "        plt.plot(data[i,0],data[i,1],mark[markIndex])\n",
    "    mark = ['*r','*b','*g','*k','^b','+b','sb','db','<b','pb']\n",
    "    \n",
    "    for i in range(k):\n",
    "        plt.plot(centroids[i,0],centroids[i,1],mark[i],markersize=20)\n",
    "    plt.show()"
   ]
  },
  {
   "cell_type": "code",
   "execution_count": 92,
   "metadata": {},
   "outputs": [
    {
     "data": {
      "image/png": "[encoded data removed]",
      "text/plain": [
       "<Figure size 432x288 with 1 Axes>"
      ]
     },
     "metadata": {
      "needs_background": "light"
     },
     "output_type": "display_data"
    }
   ],
   "source": [
    "k = 4\n",
    "\n",
    "#质心优化选择代价函数最小的一个\n",
    "min_loss = 10000\n",
    "min_loss_centroids = np.array([])\n",
    "min_loss_clusterData = np.array([])\n",
    "\n",
    "for i in range(50):\n",
    "    \n",
    "    centroids,clusterData = kmeans(data,k)\n",
    "    loss = sum(clusterData[:,1])/data.shape[0]\n",
    "    \n",
    "    if loss < min_loss:\n",
    "        min_loss = loss\n",
    "        min_loss_centroids = centroids\n",
    "        min_loss_clusterData = clusterData\n",
    "\n",
    "        \n",
    "centroids = min_loss_centroids\n",
    "clusterData = min_loss_clusterData\n",
    "\"\"\"\n",
    "if np.isnan(centroids).any():\n",
    "    print('error')\n",
    "else:\n",
    "    print(\"cliuster complete！\")\n",
    "\"\"\"\n",
    "showCluster(data,k,centroids,clusterData)"
   ]
  },
  {
   "cell_type": "code",
   "execution_count": 93,
   "metadata": {},
   "outputs": [
    {
     "data": {
      "text/plain": [
       "array([[-2.46154315,  2.78737555],\n",
       "       [ 2.65077367, -2.79019029],\n",
       "       [-3.53973889, -2.89384326],\n",
       "       [ 2.6265299 ,  3.10868015]])"
      ]
     },
     "execution_count": 93,
     "metadata": {},
     "output_type": "execute_result"
    }
   ],
   "source": [
    "centroids"
   ]
  },
  {
   "cell_type": "code",
   "execution_count": 94,
   "metadata": {},
   "outputs": [
    {
     "data": {
      "text/plain": [
       "array([[0, 1],\n",
       "       [0, 1],\n",
       "       [0, 1],\n",
       "       [0, 1]])"
      ]
     },
     "execution_count": 94,
     "metadata": {},
     "output_type": "execute_result"
    }
   ],
   "source": [
    "#测试\n",
    "x_test = [0,1]\n",
    "np.tile(x_test,(k,1))"
   ]
  },
  {
   "cell_type": "code",
   "execution_count": 95,
   "metadata": {},
   "outputs": [
    {
     "data": {
      "text/plain": [
       "array([[ 2.46154315, -1.78737555],\n",
       "       [-2.65077367,  3.79019029],\n",
       "       [ 3.53973889,  3.89384326],\n",
       "       [-2.6265299 , -2.10868015]])"
      ]
     },
     "execution_count": 95,
     "metadata": {},
     "output_type": "execute_result"
    }
   ],
   "source": [
    "np.tile(x_test,(k,1)) - centroids"
   ]
  },
  {
   "cell_type": "code",
   "execution_count": 96,
   "metadata": {},
   "outputs": [
    {
     "data": {
      "text/plain": [
       "array([[ -6.05919468,  -6.76946246],\n",
       "       [ -7.02660103,  -6.78516183],\n",
       "       [-12.52975144,  -7.37432883],\n",
       "       [ -6.89865932,  -8.66389228]])"
      ]
     },
     "execution_count": 96,
     "metadata": {},
     "output_type": "execute_result"
    }
   ],
   "source": [
    "np.tile(x_test,(k,1)) - centroids ** 2"
   ]
  },
  {
   "cell_type": "code",
   "execution_count": 97,
   "metadata": {},
   "outputs": [
    {
     "data": {
      "text/plain": [
       "array([-12.82865714, -13.81176286, -19.90408027, -15.56255159])"
      ]
     },
     "execution_count": 97,
     "metadata": {},
     "output_type": "execute_result"
    }
   ],
   "source": [
    "(np.tile(x_test,(k,1)) - centroids ** 2).sum(axis=1)"
   ]
  },
  {
   "cell_type": "code",
   "execution_count": 98,
   "metadata": {},
   "outputs": [
    {
     "data": {
      "text/plain": [
       "2"
      ]
     },
     "execution_count": 98,
     "metadata": {},
     "output_type": "execute_result"
    }
   ],
   "source": [
    "np.argmin(((np.tile(x_test,(k,1)) - centroids ** 2).sum(axis=1)))"
   ]
  },
  {
   "cell_type": "code",
   "execution_count": 99,
   "metadata": {},
   "outputs": [],
   "source": [
    "def predict(datas):\n",
    "    return np.array([np.argmin(((np.tile(data,(k,1)) - centroids) ** 2).sum(axis=1)) for data in datas])"
   ]
  },
  {
   "cell_type": "code",
   "execution_count": 100,
   "metadata": {},
   "outputs": [
    {
     "data": {
      "image/png": "[encoded data removed]",
      "text/plain": [
       "<Figure size 432x288 with 1 Axes>"
      ]
     },
     "metadata": {
      "needs_background": "light"
     },
     "output_type": "display_data"
    }
   ],
   "source": [
    "x_min,x_max = data[:,0].min() -1,data[:,0].max() + 1\n",
    "y_min,y_max = data[:,1].min() -1,data[:,1].max() + 1\n",
    "\n",
    "xx,yy = np.meshgrid(np.arange(x_min,x_max,0.02),\n",
    "                   np.arange(y_min,y_max,0.02))\n",
    "\n",
    "z = predict(np.c_[xx.ravel(),yy.ravel()])\n",
    "z = z.reshape(xx.shape)\n",
    "\n",
    "cs = plt.contourf(xx,yy,z)\n",
    "showCluster(data,k,centroids,clusterData)"
   ]
  }
 ],
 "metadata": {
  "kernelspec": {
   "display_name": "Python 3",
   "language": "python",
   "name": "python3"
  },
  "language_info": {
   "codemirror_mode": {
    "name": "ipython",
    "version": 3
   },
   "file_extension": ".py",
   "mimetype": "text/x-python",
   "name": "python",
   "nbconvert_exporter": "python",
   "pygments_lexer": "ipython3",
   "version": "3.7.1"
  }
 },
 "nbformat": 4,
 "nbformat_minor": 2
}
